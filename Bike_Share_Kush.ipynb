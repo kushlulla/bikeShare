{
 "cells": [
  {
   "cell_type": "code",
   "execution_count": 1,
   "id": "29d79939",
   "metadata": {},
   "outputs": [],
   "source": [
    "import numpy as np # Math Functions\n",
    "import pandas as pd #Data managment and processing \n",
    "import matplotlib.pyplot as plt #Data visualization\n",
    "import seaborn as sns #Data visualization \n",
    "import plotly.express as px # Advanced Data visualization \n",
    "import warnings # Avoid warings that might arrise from data visualization\n",
    "warnings.filterwarnings('ignore')\n",
    "import datetime # For time line analisys\n",
    "import random"
   ]
  },
  {
   "cell_type": "code",
   "execution_count": 2,
   "id": "d1f76f37",
   "metadata": {},
   "outputs": [
    {
     "data": {
      "text/html": [
       "<div>\n",
       "<style scoped>\n",
       "    .dataframe tbody tr th:only-of-type {\n",
       "        vertical-align: middle;\n",
       "    }\n",
       "\n",
       "    .dataframe tbody tr th {\n",
       "        vertical-align: top;\n",
       "    }\n",
       "\n",
       "    .dataframe thead th {\n",
       "        text-align: right;\n",
       "    }\n",
       "</style>\n",
       "<table border=\"1\" class=\"dataframe\">\n",
       "  <thead>\n",
       "    <tr style=\"text-align: right;\">\n",
       "      <th></th>\n",
       "      <th>instant</th>\n",
       "      <th>dteday</th>\n",
       "      <th>season</th>\n",
       "      <th>yr</th>\n",
       "      <th>mnth</th>\n",
       "      <th>holiday</th>\n",
       "      <th>weekday</th>\n",
       "      <th>workingday</th>\n",
       "      <th>weathersit</th>\n",
       "      <th>temp</th>\n",
       "      <th>atemp</th>\n",
       "      <th>hum</th>\n",
       "      <th>windspeed</th>\n",
       "      <th>casual</th>\n",
       "      <th>registered</th>\n",
       "      <th>cnt</th>\n",
       "    </tr>\n",
       "  </thead>\n",
       "  <tbody>\n",
       "    <tr>\n",
       "      <th>0</th>\n",
       "      <td>1</td>\n",
       "      <td>01-01-2018</td>\n",
       "      <td>1</td>\n",
       "      <td>0</td>\n",
       "      <td>1</td>\n",
       "      <td>0</td>\n",
       "      <td>6</td>\n",
       "      <td>0</td>\n",
       "      <td>2</td>\n",
       "      <td>14.110847</td>\n",
       "      <td>18.18125</td>\n",
       "      <td>80.5833</td>\n",
       "      <td>10.749882</td>\n",
       "      <td>331</td>\n",
       "      <td>654</td>\n",
       "      <td>985</td>\n",
       "    </tr>\n",
       "    <tr>\n",
       "      <th>1</th>\n",
       "      <td>2</td>\n",
       "      <td>02-01-2018</td>\n",
       "      <td>1</td>\n",
       "      <td>0</td>\n",
       "      <td>1</td>\n",
       "      <td>0</td>\n",
       "      <td>0</td>\n",
       "      <td>0</td>\n",
       "      <td>2</td>\n",
       "      <td>14.902598</td>\n",
       "      <td>17.68695</td>\n",
       "      <td>69.6087</td>\n",
       "      <td>16.652113</td>\n",
       "      <td>131</td>\n",
       "      <td>670</td>\n",
       "      <td>801</td>\n",
       "    </tr>\n",
       "    <tr>\n",
       "      <th>2</th>\n",
       "      <td>3</td>\n",
       "      <td>03-01-2018</td>\n",
       "      <td>1</td>\n",
       "      <td>0</td>\n",
       "      <td>1</td>\n",
       "      <td>0</td>\n",
       "      <td>1</td>\n",
       "      <td>1</td>\n",
       "      <td>1</td>\n",
       "      <td>8.050924</td>\n",
       "      <td>9.47025</td>\n",
       "      <td>43.7273</td>\n",
       "      <td>16.636703</td>\n",
       "      <td>120</td>\n",
       "      <td>1229</td>\n",
       "      <td>1349</td>\n",
       "    </tr>\n",
       "    <tr>\n",
       "      <th>3</th>\n",
       "      <td>4</td>\n",
       "      <td>04-01-2018</td>\n",
       "      <td>1</td>\n",
       "      <td>0</td>\n",
       "      <td>1</td>\n",
       "      <td>0</td>\n",
       "      <td>2</td>\n",
       "      <td>1</td>\n",
       "      <td>1</td>\n",
       "      <td>8.2</td>\n",
       "      <td>10.6061</td>\n",
       "      <td>59.0435</td>\n",
       "      <td>10.739832</td>\n",
       "      <td>108</td>\n",
       "      <td>1454</td>\n",
       "      <td>1562</td>\n",
       "    </tr>\n",
       "    <tr>\n",
       "      <th>4</th>\n",
       "      <td>5</td>\n",
       "      <td>05-01-2018</td>\n",
       "      <td>1</td>\n",
       "      <td>0</td>\n",
       "      <td>1</td>\n",
       "      <td>0</td>\n",
       "      <td>3</td>\n",
       "      <td>1</td>\n",
       "      <td>1</td>\n",
       "      <td>9.305237</td>\n",
       "      <td>11.4635</td>\n",
       "      <td>43.6957</td>\n",
       "      <td>12.5223</td>\n",
       "      <td>82</td>\n",
       "      <td>1518</td>\n",
       "      <td>1600</td>\n",
       "    </tr>\n",
       "  </tbody>\n",
       "</table>\n",
       "</div>"
      ],
      "text/plain": [
       "  instant      dteday season yr mnth holiday weekday workingday weathersit  \\\n",
       "0       1  01-01-2018      1  0    1       0       6          0          2   \n",
       "1       2  02-01-2018      1  0    1       0       0          0          2   \n",
       "2       3  03-01-2018      1  0    1       0       1          1          1   \n",
       "3       4  04-01-2018      1  0    1       0       2          1          1   \n",
       "4       5  05-01-2018      1  0    1       0       3          1          1   \n",
       "\n",
       "        temp     atemp      hum  windspeed casual registered   cnt  \n",
       "0  14.110847  18.18125  80.5833  10.749882    331        654   985  \n",
       "1  14.902598  17.68695  69.6087  16.652113    131        670   801  \n",
       "2   8.050924   9.47025  43.7273  16.636703    120       1229  1349  \n",
       "3        8.2   10.6061  59.0435  10.739832    108       1454  1562  \n",
       "4   9.305237   11.4635  43.6957    12.5223     82       1518  1600  "
      ]
     },
     "execution_count": 2,
     "metadata": {},
     "output_type": "execute_result"
    }
   ],
   "source": [
    "Bk_df= pd.read_csv(\"Data\\day.csv\" ,index_col=False,dtype=\"unicode\")\n",
    "Bk_df.head() # View Data"
   ]
  },
  {
   "cell_type": "code",
   "execution_count": 3,
   "id": "80b84024",
   "metadata": {},
   "outputs": [
    {
     "data": {
      "text/plain": [
       "(730, 16)"
      ]
     },
     "execution_count": 3,
     "metadata": {},
     "output_type": "execute_result"
    }
   ],
   "source": [
    "# First lets find the total no. of rows\n",
    "Bk_df.shape"
   ]
  },
  {
   "cell_type": "code",
   "execution_count": 4,
   "id": "ae0616d4",
   "metadata": {},
   "outputs": [
    {
     "name": "stdout",
     "output_type": "stream",
     "text": [
      "<class 'pandas.core.frame.DataFrame'>\n",
      "RangeIndex: 730 entries, 0 to 729\n",
      "Data columns (total 16 columns):\n",
      " #   Column      Non-Null Count  Dtype \n",
      "---  ------      --------------  ----- \n",
      " 0   instant     730 non-null    object\n",
      " 1   dteday      730 non-null    object\n",
      " 2   season      730 non-null    object\n",
      " 3   yr          730 non-null    object\n",
      " 4   mnth        730 non-null    object\n",
      " 5   holiday     730 non-null    object\n",
      " 6   weekday     730 non-null    object\n",
      " 7   workingday  730 non-null    object\n",
      " 8   weathersit  730 non-null    object\n",
      " 9   temp        730 non-null    object\n",
      " 10  atemp       730 non-null    object\n",
      " 11  hum         730 non-null    object\n",
      " 12  windspeed   730 non-null    object\n",
      " 13  casual      730 non-null    object\n",
      " 14  registered  730 non-null    object\n",
      " 15  cnt         730 non-null    object\n",
      "dtypes: object(16)\n",
      "memory usage: 91.4+ KB\n"
     ]
    }
   ],
   "source": [
    "# lets find all the columns with null values\n",
    "Bk_df.info(verbose = True, show_counts=True)"
   ]
  },
  {
   "cell_type": "code",
   "execution_count": 5,
   "id": "85c5bf13",
   "metadata": {},
   "outputs": [],
   "source": [
    "# No Null Values found in the Data \n",
    "# Lets first drop the column that have no Data\n",
    "Bk_df=Bk_df.drop('instant',axis=1)# Since we dont need the index number\n",
    "# Dropping casual and registered as we need to work on the total and not subsets\n",
    "Bk_df=Bk_df.drop(['casual','registered'],axis=1)\n",
    "# We can drop the holday column as that data is already persent in the working days column\n",
    "Bk_df=Bk_df.drop('holiday',axis=1)\n"
   ]
  },
  {
   "cell_type": "code",
   "execution_count": 6,
   "id": "beea2c1b",
   "metadata": {},
   "outputs": [],
   "source": [
    "# Fixing Data types\n",
    "Bk_df.dteday=pd.to_datetime(Bk_df.dteday,dayfirst=True)"
   ]
  },
  {
   "cell_type": "code",
   "execution_count": 7,
   "id": "9133a2e9",
   "metadata": {},
   "outputs": [
    {
     "name": "stdout",
     "output_type": "stream",
     "text": [
      "<class 'pandas.core.frame.DataFrame'>\n",
      "RangeIndex: 730 entries, 0 to 729\n",
      "Data columns (total 12 columns):\n",
      " #   Column      Non-Null Count  Dtype         \n",
      "---  ------      --------------  -----         \n",
      " 0   dteday      730 non-null    datetime64[ns]\n",
      " 1   season      730 non-null    int32         \n",
      " 2   yr          730 non-null    int32         \n",
      " 3   mnth        730 non-null    int32         \n",
      " 4   weekday     730 non-null    int32         \n",
      " 5   workingday  730 non-null    int32         \n",
      " 6   weathersit  730 non-null    int32         \n",
      " 7   temp        730 non-null    float64       \n",
      " 8   atemp       730 non-null    float64       \n",
      " 9   hum         730 non-null    float64       \n",
      " 10  windspeed   730 non-null    float64       \n",
      " 11  cnt         730 non-null    int32         \n",
      "dtypes: datetime64[ns](1), float64(4), int32(7)\n",
      "memory usage: 48.6 KB\n"
     ]
    }
   ],
   "source": [
    "int_cols=['season','yr','mnth','weekday','workingday','weathersit','cnt']\n",
    "Bk_df[int_cols]=Bk_df[int_cols].astype(int)\n",
    "float_cols=['temp','atemp','hum','windspeed']\n",
    "Bk_df[float_cols]=Bk_df[float_cols].astype(float)\n",
    "Bk_df.info()"
   ]
  },
  {
   "cell_type": "markdown",
   "id": "133ce15c",
   "metadata": {},
   "source": [
    "#### De-Code the data for EDA"
   ]
  },
  {
   "cell_type": "code",
   "execution_count": 8,
   "id": "284483c5",
   "metadata": {},
   "outputs": [],
   "source": [
    "# De-code yr column\n",
    "Bk_df.yr=[2018 if x==0 else 2019 for x in Bk_df.yr]"
   ]
  },
  {
   "cell_type": "code",
   "execution_count": 9,
   "id": "3f16e5e6",
   "metadata": {},
   "outputs": [],
   "source": [
    "#De-Code season column\n",
    "Bk_df.season=['Spring' if x==1 else 'Summer' if x==2 else 'Fall' if x==3 else 'Winter' for x in Bk_df.season]"
   ]
  },
  {
   "cell_type": "code",
   "execution_count": 10,
   "id": "552e3a4b",
   "metadata": {},
   "outputs": [],
   "source": [
    "#De-code weather\n",
    "Bk_df.weathersit=['Clear' if x==1 else 'Mist' if x==2 else 'Light_snow_rain' if x==3 else 'Heavy_snow_rain' for x in Bk_df.weathersit]"
   ]
  },
  {
   "cell_type": "markdown",
   "id": "395ba553",
   "metadata": {},
   "source": [
    "#### Simplify data"
   ]
  },
  {
   "cell_type": "code",
   "execution_count": 11,
   "id": "565a2274",
   "metadata": {},
   "outputs": [],
   "source": [
    "# since we dont need such high accuracy in the temprature and humidity lets simplify it \n",
    "def sim(col):\n",
    "    out=Bk_df[col].apply(lambda x: round(x,1))\n",
    "    return out\n",
    "for r in ['temp','atemp','hum','windspeed']:\n",
    "    Bk_df[r]=sim(r)"
   ]
  },
  {
   "cell_type": "markdown",
   "id": "bcd074a8",
   "metadata": {},
   "source": [
    "#### Now that the data is clean and ready to use lets explore it "
   ]
  },
  {
   "cell_type": "markdown",
   "id": "23dffb70",
   "metadata": {},
   "source": [
    "##### Univariate analysis"
   ]
  },
  {
   "cell_type": "code",
   "execution_count": 12,
   "id": "d837424f",
   "metadata": {},
   "outputs": [
    {
     "data": {
      "image/png": "[encoded data removed]",
      "text/plain": [
       "<Figure size 576x432 with 1 Axes>"
      ]
     },
     "metadata": {
      "needs_background": "light"
     },
     "output_type": "display_data"
    }
   ],
   "source": [
    "plt.figure(figsize=(8,6))\n",
    "sns.countplot(x='weathersit',data=Bk_df)\n",
    "plt.title(\"Weather at Location between 2018-2019\")\n",
    "plt.show()\n",
    "# We see that the location has had mostly good weather and very little snow/rain"
   ]
  },
  {
   "cell_type": "code",
   "execution_count": 13,
   "id": "3feeb8da",
   "metadata": {},
   "outputs": [
    {
     "data": {
      "image/png": "[encoded data removed]",
      "text/plain": [
       "<Figure size 720x288 with 1 Axes>"
      ]
     },
     "metadata": {
      "needs_background": "light"
     },
     "output_type": "display_data"
    }
   ],
   "source": [
    "#lets see the temprature ranges of the location\n",
    "plt.figure(figsize=(10,4))\n",
    "sns.boxplot(x='temp',data=Bk_df)\n",
    "plt.show()"
   ]
  },
  {
   "cell_type": "code",
   "execution_count": 14,
   "id": "3230c930",
   "metadata": {},
   "outputs": [
    {
     "data": {
      "image/png": "[encoded data removed]",
      "text/plain": [
       "<Figure size 720x288 with 1 Axes>"
      ]
     },
     "metadata": {
      "needs_background": "light"
     },
     "output_type": "display_data"
    }
   ],
   "source": [
    "plt.figure(figsize=(10,4))\n",
    "sns.histplot(x='temp',data=Bk_df,bins=11)\n",
    "plt.show()"
   ]
  },
  {
   "cell_type": "code",
   "execution_count": 15,
   "id": "835085ed",
   "metadata": {},
   "outputs": [
    {
     "data": {
      "text/plain": [
       "count    730.000000\n",
       "mean      20.319315\n",
       "std        7.506701\n",
       "min        2.400000\n",
       "25%       13.800000\n",
       "50%       20.450000\n",
       "75%       26.900000\n",
       "max       35.300000\n",
       "Name: temp, dtype: float64"
      ]
     },
     "execution_count": 15,
     "metadata": {},
     "output_type": "execute_result"
    }
   ],
   "source": [
    "Bk_df.temp.describe()\n",
    "# We see that the weather has no Outliers and has a consistant pattern with very few days in the temperature extremes"
   ]
  },
  {
   "cell_type": "code",
   "execution_count": 16,
   "id": "36b24f01",
   "metadata": {},
   "outputs": [
    {
     "data": {
      "image/png": "[encoded data removed]",
      "text/plain": [
       "<Figure size 432x288 with 1 Axes>"
      ]
     },
     "metadata": {
      "needs_background": "light"
     },
     "output_type": "display_data"
    }
   ],
   "source": [
    "sns.boxplot(x='hum',data=Bk_df)\n",
    "plt.title(\"Humidity range\")\n",
    "plt.show()\n",
    "# We see that there are outliers and humidity has extremely low values .. lets have a closer look "
   ]
  },
  {
   "cell_type": "code",
   "execution_count": 17,
   "id": "5c603887",
   "metadata": {},
   "outputs": [
    {
     "data": {
      "text/html": [
       "<div>\n",
       "<style scoped>\n",
       "    .dataframe tbody tr th:only-of-type {\n",
       "        vertical-align: middle;\n",
       "    }\n",
       "\n",
       "    .dataframe tbody tr th {\n",
       "        vertical-align: top;\n",
       "    }\n",
       "\n",
       "    .dataframe thead th {\n",
       "        text-align: right;\n",
       "    }\n",
       "</style>\n",
       "<table border=\"1\" class=\"dataframe\">\n",
       "  <thead>\n",
       "    <tr style=\"text-align: right;\">\n",
       "      <th></th>\n",
       "      <th>dteday</th>\n",
       "      <th>season</th>\n",
       "      <th>yr</th>\n",
       "      <th>mnth</th>\n",
       "      <th>weekday</th>\n",
       "      <th>workingday</th>\n",
       "      <th>weathersit</th>\n",
       "      <th>temp</th>\n",
       "      <th>atemp</th>\n",
       "      <th>hum</th>\n",
       "      <th>windspeed</th>\n",
       "      <th>cnt</th>\n",
       "    </tr>\n",
       "  </thead>\n",
       "  <tbody>\n",
       "    <tr>\n",
       "      <th>49</th>\n",
       "      <td>2018-02-19</td>\n",
       "      <td>Spring</td>\n",
       "      <td>2018</td>\n",
       "      <td>2</td>\n",
       "      <td>6</td>\n",
       "      <td>0</td>\n",
       "      <td>Clear</td>\n",
       "      <td>16.4</td>\n",
       "      <td>19.6</td>\n",
       "      <td>18.8</td>\n",
       "      <td>34.0</td>\n",
       "      <td>1635</td>\n",
       "    </tr>\n",
       "    <tr>\n",
       "      <th>68</th>\n",
       "      <td>2018-03-10</td>\n",
       "      <td>Spring</td>\n",
       "      <td>2018</td>\n",
       "      <td>3</td>\n",
       "      <td>4</td>\n",
       "      <td>1</td>\n",
       "      <td>Light_snow_rain</td>\n",
       "      <td>16.0</td>\n",
       "      <td>19.3</td>\n",
       "      <td>0.0</td>\n",
       "      <td>17.5</td>\n",
       "      <td>623</td>\n",
       "    </tr>\n",
       "  </tbody>\n",
       "</table>\n",
       "</div>"
      ],
      "text/plain": [
       "       dteday  season    yr  mnth  weekday  workingday       weathersit  temp  \\\n",
       "49 2018-02-19  Spring  2018     2        6           0            Clear  16.4   \n",
       "68 2018-03-10  Spring  2018     3        4           1  Light_snow_rain  16.0   \n",
       "\n",
       "    atemp   hum  windspeed   cnt  \n",
       "49   19.6  18.8       34.0  1635  \n",
       "68   19.3   0.0       17.5   623  "
      ]
     },
     "execution_count": 17,
     "metadata": {},
     "output_type": "execute_result"
    }
   ],
   "source": [
    "Bk_df[Bk_df.hum<=20]\n",
    "# we have reported light rain/snow on 10th march but a hum=0.0 this could be a data error lets look deeper"
   ]
  },
  {
   "cell_type": "code",
   "execution_count": 18,
   "id": "32047a20",
   "metadata": {},
   "outputs": [
    {
     "data": {
      "text/html": [
       "<div>\n",
       "<style scoped>\n",
       "    .dataframe tbody tr th:only-of-type {\n",
       "        vertical-align: middle;\n",
       "    }\n",
       "\n",
       "    .dataframe tbody tr th {\n",
       "        vertical-align: top;\n",
       "    }\n",
       "\n",
       "    .dataframe thead th {\n",
       "        text-align: right;\n",
       "    }\n",
       "</style>\n",
       "<table border=\"1\" class=\"dataframe\">\n",
       "  <thead>\n",
       "    <tr style=\"text-align: right;\">\n",
       "      <th></th>\n",
       "      <th>dteday</th>\n",
       "      <th>season</th>\n",
       "      <th>yr</th>\n",
       "      <th>mnth</th>\n",
       "      <th>weekday</th>\n",
       "      <th>workingday</th>\n",
       "      <th>weathersit</th>\n",
       "      <th>temp</th>\n",
       "      <th>atemp</th>\n",
       "      <th>hum</th>\n",
       "      <th>windspeed</th>\n",
       "      <th>cnt</th>\n",
       "    </tr>\n",
       "  </thead>\n",
       "  <tbody>\n",
       "    <tr>\n",
       "      <th>60</th>\n",
       "      <td>2018-03-02</td>\n",
       "      <td>Spring</td>\n",
       "      <td>2018</td>\n",
       "      <td>3</td>\n",
       "      <td>3</td>\n",
       "      <td>1</td>\n",
       "      <td>Clear</td>\n",
       "      <td>13.7</td>\n",
       "      <td>16.0</td>\n",
       "      <td>45.0</td>\n",
       "      <td>20.6</td>\n",
       "      <td>2134</td>\n",
       "    </tr>\n",
       "    <tr>\n",
       "      <th>61</th>\n",
       "      <td>2018-03-03</td>\n",
       "      <td>Spring</td>\n",
       "      <td>2018</td>\n",
       "      <td>3</td>\n",
       "      <td>4</td>\n",
       "      <td>1</td>\n",
       "      <td>Clear</td>\n",
       "      <td>8.1</td>\n",
       "      <td>10.0</td>\n",
       "      <td>31.8</td>\n",
       "      <td>15.1</td>\n",
       "      <td>1685</td>\n",
       "    </tr>\n",
       "    <tr>\n",
       "      <th>62</th>\n",
       "      <td>2018-03-04</td>\n",
       "      <td>Spring</td>\n",
       "      <td>2018</td>\n",
       "      <td>3</td>\n",
       "      <td>5</td>\n",
       "      <td>1</td>\n",
       "      <td>Mist</td>\n",
       "      <td>10.7</td>\n",
       "      <td>12.8</td>\n",
       "      <td>61.0</td>\n",
       "      <td>13.6</td>\n",
       "      <td>1944</td>\n",
       "    </tr>\n",
       "    <tr>\n",
       "      <th>63</th>\n",
       "      <td>2018-03-05</td>\n",
       "      <td>Spring</td>\n",
       "      <td>2018</td>\n",
       "      <td>3</td>\n",
       "      <td>6</td>\n",
       "      <td>0</td>\n",
       "      <td>Mist</td>\n",
       "      <td>15.8</td>\n",
       "      <td>18.9</td>\n",
       "      <td>78.9</td>\n",
       "      <td>16.9</td>\n",
       "      <td>2077</td>\n",
       "    </tr>\n",
       "    <tr>\n",
       "      <th>64</th>\n",
       "      <td>2018-03-06</td>\n",
       "      <td>Spring</td>\n",
       "      <td>2018</td>\n",
       "      <td>3</td>\n",
       "      <td>0</td>\n",
       "      <td>0</td>\n",
       "      <td>Mist</td>\n",
       "      <td>15.4</td>\n",
       "      <td>18.3</td>\n",
       "      <td>94.8</td>\n",
       "      <td>23.0</td>\n",
       "      <td>605</td>\n",
       "    </tr>\n",
       "    <tr>\n",
       "      <th>65</th>\n",
       "      <td>2018-03-07</td>\n",
       "      <td>Spring</td>\n",
       "      <td>2018</td>\n",
       "      <td>3</td>\n",
       "      <td>1</td>\n",
       "      <td>1</td>\n",
       "      <td>Clear</td>\n",
       "      <td>10.7</td>\n",
       "      <td>11.9</td>\n",
       "      <td>55.1</td>\n",
       "      <td>22.9</td>\n",
       "      <td>1872</td>\n",
       "    </tr>\n",
       "    <tr>\n",
       "      <th>66</th>\n",
       "      <td>2018-03-08</td>\n",
       "      <td>Spring</td>\n",
       "      <td>2018</td>\n",
       "      <td>3</td>\n",
       "      <td>2</td>\n",
       "      <td>1</td>\n",
       "      <td>Clear</td>\n",
       "      <td>12.0</td>\n",
       "      <td>15.1</td>\n",
       "      <td>42.1</td>\n",
       "      <td>8.1</td>\n",
       "      <td>2133</td>\n",
       "    </tr>\n",
       "    <tr>\n",
       "      <th>67</th>\n",
       "      <td>2018-03-09</td>\n",
       "      <td>Spring</td>\n",
       "      <td>2018</td>\n",
       "      <td>3</td>\n",
       "      <td>3</td>\n",
       "      <td>1</td>\n",
       "      <td>Mist</td>\n",
       "      <td>12.1</td>\n",
       "      <td>14.3</td>\n",
       "      <td>77.5</td>\n",
       "      <td>14.8</td>\n",
       "      <td>1891</td>\n",
       "    </tr>\n",
       "    <tr>\n",
       "      <th>68</th>\n",
       "      <td>2018-03-10</td>\n",
       "      <td>Spring</td>\n",
       "      <td>2018</td>\n",
       "      <td>3</td>\n",
       "      <td>4</td>\n",
       "      <td>1</td>\n",
       "      <td>Light_snow_rain</td>\n",
       "      <td>16.0</td>\n",
       "      <td>19.3</td>\n",
       "      <td>0.0</td>\n",
       "      <td>17.5</td>\n",
       "      <td>623</td>\n",
       "    </tr>\n",
       "    <tr>\n",
       "      <th>69</th>\n",
       "      <td>2018-03-11</td>\n",
       "      <td>Spring</td>\n",
       "      <td>2018</td>\n",
       "      <td>3</td>\n",
       "      <td>5</td>\n",
       "      <td>1</td>\n",
       "      <td>Mist</td>\n",
       "      <td>13.0</td>\n",
       "      <td>15.2</td>\n",
       "      <td>65.0</td>\n",
       "      <td>15.6</td>\n",
       "      <td>1977</td>\n",
       "    </tr>\n",
       "    <tr>\n",
       "      <th>70</th>\n",
       "      <td>2018-03-12</td>\n",
       "      <td>Spring</td>\n",
       "      <td>2018</td>\n",
       "      <td>3</td>\n",
       "      <td>6</td>\n",
       "      <td>0</td>\n",
       "      <td>Clear</td>\n",
       "      <td>13.5</td>\n",
       "      <td>16.3</td>\n",
       "      <td>59.5</td>\n",
       "      <td>14.8</td>\n",
       "      <td>2132</td>\n",
       "    </tr>\n",
       "    <tr>\n",
       "      <th>71</th>\n",
       "      <td>2018-03-13</td>\n",
       "      <td>Spring</td>\n",
       "      <td>2018</td>\n",
       "      <td>3</td>\n",
       "      <td>0</td>\n",
       "      <td>0</td>\n",
       "      <td>Clear</td>\n",
       "      <td>15.8</td>\n",
       "      <td>19.0</td>\n",
       "      <td>52.7</td>\n",
       "      <td>18.1</td>\n",
       "      <td>2417</td>\n",
       "    </tr>\n",
       "    <tr>\n",
       "      <th>72</th>\n",
       "      <td>2018-03-14</td>\n",
       "      <td>Spring</td>\n",
       "      <td>2018</td>\n",
       "      <td>3</td>\n",
       "      <td>1</td>\n",
       "      <td>1</td>\n",
       "      <td>Clear</td>\n",
       "      <td>13.3</td>\n",
       "      <td>16.6</td>\n",
       "      <td>49.7</td>\n",
       "      <td>9.2</td>\n",
       "      <td>2046</td>\n",
       "    </tr>\n",
       "    <tr>\n",
       "      <th>73</th>\n",
       "      <td>2018-03-15</td>\n",
       "      <td>Spring</td>\n",
       "      <td>2018</td>\n",
       "      <td>3</td>\n",
       "      <td>2</td>\n",
       "      <td>1</td>\n",
       "      <td>Mist</td>\n",
       "      <td>13.0</td>\n",
       "      <td>15.9</td>\n",
       "      <td>65.6</td>\n",
       "      <td>12.3</td>\n",
       "      <td>2056</td>\n",
       "    </tr>\n",
       "    <tr>\n",
       "      <th>74</th>\n",
       "      <td>2018-03-16</td>\n",
       "      <td>Spring</td>\n",
       "      <td>2018</td>\n",
       "      <td>3</td>\n",
       "      <td>3</td>\n",
       "      <td>1</td>\n",
       "      <td>Mist</td>\n",
       "      <td>15.0</td>\n",
       "      <td>18.3</td>\n",
       "      <td>77.7</td>\n",
       "      <td>13.6</td>\n",
       "      <td>2192</td>\n",
       "    </tr>\n",
       "  </tbody>\n",
       "</table>\n",
       "</div>"
      ],
      "text/plain": [
       "       dteday  season    yr  mnth  weekday  workingday       weathersit  temp  \\\n",
       "60 2018-03-02  Spring  2018     3        3           1            Clear  13.7   \n",
       "61 2018-03-03  Spring  2018     3        4           1            Clear   8.1   \n",
       "62 2018-03-04  Spring  2018     3        5           1             Mist  10.7   \n",
       "63 2018-03-05  Spring  2018     3        6           0             Mist  15.8   \n",
       "64 2018-03-06  Spring  2018     3        0           0             Mist  15.4   \n",
       "65 2018-03-07  Spring  2018     3        1           1            Clear  10.7   \n",
       "66 2018-03-08  Spring  2018     3        2           1            Clear  12.0   \n",
       "67 2018-03-09  Spring  2018     3        3           1             Mist  12.1   \n",
       "68 2018-03-10  Spring  2018     3        4           1  Light_snow_rain  16.0   \n",
       "69 2018-03-11  Spring  2018     3        5           1             Mist  13.0   \n",
       "70 2018-03-12  Spring  2018     3        6           0            Clear  13.5   \n",
       "71 2018-03-13  Spring  2018     3        0           0            Clear  15.8   \n",
       "72 2018-03-14  Spring  2018     3        1           1            Clear  13.3   \n",
       "73 2018-03-15  Spring  2018     3        2           1             Mist  13.0   \n",
       "74 2018-03-16  Spring  2018     3        3           1             Mist  15.0   \n",
       "\n",
       "    atemp   hum  windspeed   cnt  \n",
       "60   16.0  45.0       20.6  2134  \n",
       "61   10.0  31.8       15.1  1685  \n",
       "62   12.8  61.0       13.6  1944  \n",
       "63   18.9  78.9       16.9  2077  \n",
       "64   18.3  94.8       23.0   605  \n",
       "65   11.9  55.1       22.9  1872  \n",
       "66   15.1  42.1        8.1  2133  \n",
       "67   14.3  77.5       14.8  1891  \n",
       "68   19.3   0.0       17.5   623  \n",
       "69   15.2  65.0       15.6  1977  \n",
       "70   16.3  59.5       14.8  2132  \n",
       "71   19.0  52.7       18.1  2417  \n",
       "72   16.6  49.7        9.2  2046  \n",
       "73   15.9  65.6       12.3  2056  \n",
       "74   18.3  77.7       13.6  2192  "
      ]
     },
     "execution_count": 18,
     "metadata": {},
     "output_type": "execute_result"
    }
   ],
   "source": [
    "Bk_df[60:75]\n",
    "# as we can see there is some major diffrence and the data for that day is wrong as we can logicaly fill that with an avg of the day before and after\n"
   ]
  },
  {
   "cell_type": "code",
   "execution_count": 19,
   "id": "ca0e77d4",
   "metadata": {},
   "outputs": [
    {
     "data": {
      "text/html": [
       "<div>\n",
       "<style scoped>\n",
       "    .dataframe tbody tr th:only-of-type {\n",
       "        vertical-align: middle;\n",
       "    }\n",
       "\n",
       "    .dataframe tbody tr th {\n",
       "        vertical-align: top;\n",
       "    }\n",
       "\n",
       "    .dataframe thead th {\n",
       "        text-align: right;\n",
       "    }\n",
       "</style>\n",
       "<table border=\"1\" class=\"dataframe\">\n",
       "  <thead>\n",
       "    <tr style=\"text-align: right;\">\n",
       "      <th></th>\n",
       "      <th>dteday</th>\n",
       "      <th>season</th>\n",
       "      <th>yr</th>\n",
       "      <th>mnth</th>\n",
       "      <th>weekday</th>\n",
       "      <th>workingday</th>\n",
       "      <th>weathersit</th>\n",
       "      <th>temp</th>\n",
       "      <th>atemp</th>\n",
       "      <th>hum</th>\n",
       "      <th>windspeed</th>\n",
       "      <th>cnt</th>\n",
       "    </tr>\n",
       "  </thead>\n",
       "  <tbody>\n",
       "    <tr>\n",
       "      <th>65</th>\n",
       "      <td>2018-03-07</td>\n",
       "      <td>Spring</td>\n",
       "      <td>2018</td>\n",
       "      <td>3</td>\n",
       "      <td>1</td>\n",
       "      <td>1</td>\n",
       "      <td>Clear</td>\n",
       "      <td>10.7</td>\n",
       "      <td>11.9</td>\n",
       "      <td>55.10</td>\n",
       "      <td>22.9</td>\n",
       "      <td>1872</td>\n",
       "    </tr>\n",
       "    <tr>\n",
       "      <th>66</th>\n",
       "      <td>2018-03-08</td>\n",
       "      <td>Spring</td>\n",
       "      <td>2018</td>\n",
       "      <td>3</td>\n",
       "      <td>2</td>\n",
       "      <td>1</td>\n",
       "      <td>Clear</td>\n",
       "      <td>12.0</td>\n",
       "      <td>15.1</td>\n",
       "      <td>42.10</td>\n",
       "      <td>8.1</td>\n",
       "      <td>2133</td>\n",
       "    </tr>\n",
       "    <tr>\n",
       "      <th>67</th>\n",
       "      <td>2018-03-09</td>\n",
       "      <td>Spring</td>\n",
       "      <td>2018</td>\n",
       "      <td>3</td>\n",
       "      <td>3</td>\n",
       "      <td>1</td>\n",
       "      <td>Mist</td>\n",
       "      <td>12.1</td>\n",
       "      <td>14.3</td>\n",
       "      <td>77.50</td>\n",
       "      <td>14.8</td>\n",
       "      <td>1891</td>\n",
       "    </tr>\n",
       "    <tr>\n",
       "      <th>68</th>\n",
       "      <td>2018-03-10</td>\n",
       "      <td>Spring</td>\n",
       "      <td>2018</td>\n",
       "      <td>3</td>\n",
       "      <td>4</td>\n",
       "      <td>1</td>\n",
       "      <td>Light_snow_rain</td>\n",
       "      <td>16.0</td>\n",
       "      <td>19.3</td>\n",
       "      <td>71.25</td>\n",
       "      <td>17.5</td>\n",
       "      <td>623</td>\n",
       "    </tr>\n",
       "    <tr>\n",
       "      <th>69</th>\n",
       "      <td>2018-03-11</td>\n",
       "      <td>Spring</td>\n",
       "      <td>2018</td>\n",
       "      <td>3</td>\n",
       "      <td>5</td>\n",
       "      <td>1</td>\n",
       "      <td>Mist</td>\n",
       "      <td>13.0</td>\n",
       "      <td>15.2</td>\n",
       "      <td>65.00</td>\n",
       "      <td>15.6</td>\n",
       "      <td>1977</td>\n",
       "    </tr>\n",
       "  </tbody>\n",
       "</table>\n",
       "</div>"
      ],
      "text/plain": [
       "       dteday  season    yr  mnth  weekday  workingday       weathersit  temp  \\\n",
       "65 2018-03-07  Spring  2018     3        1           1            Clear  10.7   \n",
       "66 2018-03-08  Spring  2018     3        2           1            Clear  12.0   \n",
       "67 2018-03-09  Spring  2018     3        3           1             Mist  12.1   \n",
       "68 2018-03-10  Spring  2018     3        4           1  Light_snow_rain  16.0   \n",
       "69 2018-03-11  Spring  2018     3        5           1             Mist  13.0   \n",
       "\n",
       "    atemp    hum  windspeed   cnt  \n",
       "65   11.9  55.10       22.9  1872  \n",
       "66   15.1  42.10        8.1  2133  \n",
       "67   14.3  77.50       14.8  1891  \n",
       "68   19.3  71.25       17.5   623  \n",
       "69   15.2  65.00       15.6  1977  "
      ]
     },
     "execution_count": 19,
     "metadata": {},
     "output_type": "execute_result"
    }
   ],
   "source": [
    "Bk_df.hum[Bk_df.hum==0]=(77.5+65)/2\n",
    "Bk_df[65:70]"
   ]
  },
  {
   "cell_type": "markdown",
   "id": "c1a0e66b",
   "metadata": {},
   "source": [
    "#### Bivariate/ Multi-variate analysis"
   ]
  },
  {
   "cell_type": "code",
   "execution_count": 20,
   "id": "d2749bb2",
   "metadata": {
    "scrolled": false
   },
   "outputs": [],
   "source": [
    "# Before we start analisys we need to consider a 2 things\n",
    "# 1. our target column is 'cnt'\n",
    "# 2. Break down data into numeric and categorical\n",
    "\n",
    "#Lets do the splitting of cols\n",
    "cat_cols=['yr','season','mnth','weekday','workingday','weathersit']\n",
    "num_cols=['dteday','temp','atemp','hum','windspeed']\n"
   ]
  },
  {
   "cell_type": "code",
   "execution_count": 21,
   "id": "57df3351",
   "metadata": {},
   "outputs": [],
   "source": [
    "# function to compare categorical columns \n",
    "def cat_plot(col,df=Bk_df,pvt=False,pl=True):\n",
    "    pal=[\"hls\",'husl','Paired','rocket','mako']\n",
    "    if (pl==True):\n",
    "        plt.figure(figsize=(8,6))\n",
    "        sns.barplot(data=df,x=col,y='cnt',palette=pal[random.randint(0,4)])\n",
    "        plt.title(\"Chart showing total rentals split by \"+col)\n",
    "        plt.show()\n",
    "        plt.figure(figsize=(8,6))\n",
    "        plt.title(\"Chart showing total rentals split by \"+col+\" by year\")\n",
    "        sns.barplot(data=df,x=col,y='cnt',palette=pal[random.randint(0,4)],hue='yr')\n",
    "        plt.show()\n",
    "    if (pvt==True):\n",
    "        pv=df.pivot_table(values='cnt',index=col,aggfunc='sum')\n",
    "        return pv\n",
    "   "
   ]
  },
  {
   "cell_type": "code",
   "execution_count": 22,
   "id": "d94fd71d",
   "metadata": {
    "scrolled": false
   },
   "outputs": [
    {
     "data": {
      "image/png": "[encoded data removed]",
      "text/plain": [
       "<Figure size 576x432 with 1 Axes>"
      ]
     },
     "metadata": {
      "needs_background": "light"
     },
     "output_type": "display_data"
    },
    {
     "data": {
      "image/png": "[encoded data removed]",
      "text/plain": [
       "<Figure size 576x432 with 1 Axes>"
      ]
     },
     "metadata": {
      "needs_background": "light"
     },
     "output_type": "display_data"
    },
    {
     "data": {
      "image/png": "[encoded data removed]",
      "text/plain": [
       "<Figure size 576x432 with 1 Axes>"
      ]
     },
     "metadata": {
      "needs_background": "light"
     },
     "output_type": "display_data"
    },
    {
     "data": {
      "image/png": "[encoded data removed]",
      "text/plain": [
       "<Figure size 576x432 with 1 Axes>"
      ]
     },
     "metadata": {
      "needs_background": "light"
     },
     "output_type": "display_data"
    },
    {
     "data": {
      "image/png": "[encoded data removed]",
      "text/plain": [
       "<Figure size 576x432 with 1 Axes>"
      ]
     },
     "metadata": {
      "needs_background": "light"
     },
     "output_type": "display_data"
    },
    {
     "data": {
      "image/png": "[encoded data removed]",
      "text/plain": [
       "<Figure size 576x432 with 1 Axes>"
      ]
     },
     "metadata": {
      "needs_background": "light"
     },
     "output_type": "display_data"
    },
    {
     "data": {
      "image/png": "[encoded data removed]",
      "text/plain": [
       "<Figure size 576x432 with 1 Axes>"
      ]
     },
     "metadata": {
      "needs_background": "light"
     },
     "output_type": "display_data"
    },
    {
     "data": {
      "image/png": "[encoded data removed]",
      "text/plain": [
       "<Figure size 576x432 with 1 Axes>"
      ]
     },
     "metadata": {
      "needs_background": "light"
     },
     "output_type": "display_data"
    },
    {
     "data": {
      "image/png": "[encoded data removed]",
      "text/plain": [
       "<Figure size 576x432 with 1 Axes>"
      ]
     },
     "metadata": {
      "needs_background": "light"
     },
     "output_type": "display_data"
    },
    {
     "data": {
      "image/png": "[encoded data removed]",
      "text/plain": [
       "<Figure size 576x432 with 1 Axes>"
      ]
     },
     "metadata": {
      "needs_background": "light"
     },
     "output_type": "display_data"
    }
   ],
   "source": [
    "for x in cat_cols[1:]:\n",
    "    cat_plot(x)\n"
   ]
  },
  {
   "cell_type": "markdown",
   "id": "7be4a558",
   "metadata": {},
   "source": [
    "##### Observations\n",
    "1.\tThere is an improvement in rentals in every aspect when seen year on year.\n",
    "2.\tThe bestselling months are July to September.\n",
    "3.\tWeekends are generally show lower rentals \n",
    "4.\tAs a result working days the rentals are higher\n",
    "5.\t Even the lightest rain brings down the rentals drastically \n",
    "6.\tSummer and fall are the best seasons with highest demand .\n"
   ]
  },
  {
   "cell_type": "code",
   "execution_count": 23,
   "id": "a81c89a9",
   "metadata": {},
   "outputs": [
    {
     "data": {
      "image/png": "[encoded data removed]",
      "text/plain": [
       "<Figure size 864x576 with 1 Axes>"
      ]
     },
     "metadata": {
      "needs_background": "light"
     },
     "output_type": "display_data"
    }
   ],
   "source": [
    "# lets sea if there is a realtion between seasons and months\n",
    "plt.figure(figsize=(12,8))\n",
    "sns.barplot(x='mnth',y='cnt',hue=\"season\",data=Bk_df)\n",
    "plt.show()\n",
    "#There is a clear distinction and we can see as spring progresses and summer sets in we see an increase in demand that goes down\n",
    "# as winter sets in with spring being the lowest season."
   ]
  },
  {
   "cell_type": "code",
   "execution_count": 24,
   "id": "bf5ee63d",
   "metadata": {},
   "outputs": [
    {
     "data": {
      "image/png": "[encoded data removed]",
      "text/plain": [
       "<Figure size 1800x360 with 5 Axes>"
      ]
     },
     "metadata": {
      "needs_background": "light"
     },
     "output_type": "display_data"
    }
   ],
   "source": [
    "# Lets look at the numeric data \n",
    "sns.pairplot(data=Bk_df,x_vars=num_cols,y_vars='cnt',height=5,aspect=1)\n",
    "plt.show()"
   ]
  },
  {
   "cell_type": "code",
   "execution_count": 25,
   "id": "111e4fcf",
   "metadata": {},
   "outputs": [
    {
     "data": {
      "image/png": "[encoded data removed]",
      "text/plain": [
       "<Figure size 432x288 with 1 Axes>"
      ]
     },
     "metadata": {
      "needs_background": "light"
     },
     "output_type": "display_data"
    }
   ],
   "source": [
    "# we see a trend between dteday and temp, we also see since atemp and temp show exactly the same realtion we can drop one of them\n",
    "sns.scatterplot(x=num_cols[0],y='cnt',data=Bk_df)\n",
    "plt.xticks(rotation=90)\n",
    "plt.show()\n",
    "\n",
    "# As expected we see that there is a sharp dip in winter "
   ]
  },
  {
   "cell_type": "code",
   "execution_count": 26,
   "id": "cd25d1a9",
   "metadata": {},
   "outputs": [
    {
     "data": {
      "image/png": "[encoded data removed]",
      "text/plain": [
       "<Figure size 1152x864 with 2 Axes>"
      ]
     },
     "metadata": {
      "needs_background": "light"
     },
     "output_type": "display_data"
    }
   ],
   "source": [
    "plt.figure(figsize=(16,12))\n",
    "sns.heatmap(Bk_df.corr(),vmax=0.8,annot=True)\n",
    "plt.show()"
   ]
  },
  {
   "cell_type": "markdown",
   "id": "5364de54",
   "metadata": {},
   "source": [
    "### Key obeservations for building a model.\n",
    "* season has a high influance on the data\n",
    "* temp also shows some anount of relation \n",
    "* weather shows significant effect on sales \n",
    "* working/ week days has a significant effect on the data \n"
   ]
  },
  {
   "cell_type": "code",
   "execution_count": 27,
   "id": "25b70694",
   "metadata": {},
   "outputs": [],
   "source": [
    "#Lets take a copy of the data for model builing \n",
    "df_mod= Bk_df\n"
   ]
  },
  {
   "cell_type": "code",
   "execution_count": 28,
   "id": "615133df",
   "metadata": {},
   "outputs": [
    {
     "data": {
      "text/html": [
       "<div>\n",
       "<style scoped>\n",
       "    .dataframe tbody tr th:only-of-type {\n",
       "        vertical-align: middle;\n",
       "    }\n",
       "\n",
       "    .dataframe tbody tr th {\n",
       "        vertical-align: top;\n",
       "    }\n",
       "\n",
       "    .dataframe thead th {\n",
       "        text-align: right;\n",
       "    }\n",
       "</style>\n",
       "<table border=\"1\" class=\"dataframe\">\n",
       "  <thead>\n",
       "    <tr style=\"text-align: right;\">\n",
       "      <th></th>\n",
       "      <th>season</th>\n",
       "      <th>yr</th>\n",
       "      <th>mnth</th>\n",
       "      <th>weekday</th>\n",
       "      <th>workingday</th>\n",
       "      <th>weathersit</th>\n",
       "      <th>temp</th>\n",
       "      <th>hum</th>\n",
       "      <th>windspeed</th>\n",
       "      <th>cnt</th>\n",
       "    </tr>\n",
       "  </thead>\n",
       "  <tbody>\n",
       "    <tr>\n",
       "      <th>0</th>\n",
       "      <td>Spring</td>\n",
       "      <td>2018</td>\n",
       "      <td>1</td>\n",
       "      <td>6</td>\n",
       "      <td>0</td>\n",
       "      <td>Mist</td>\n",
       "      <td>14.1</td>\n",
       "      <td>80.6</td>\n",
       "      <td>10.7</td>\n",
       "      <td>985</td>\n",
       "    </tr>\n",
       "    <tr>\n",
       "      <th>1</th>\n",
       "      <td>Spring</td>\n",
       "      <td>2018</td>\n",
       "      <td>1</td>\n",
       "      <td>0</td>\n",
       "      <td>0</td>\n",
       "      <td>Mist</td>\n",
       "      <td>14.9</td>\n",
       "      <td>69.6</td>\n",
       "      <td>16.7</td>\n",
       "      <td>801</td>\n",
       "    </tr>\n",
       "    <tr>\n",
       "      <th>2</th>\n",
       "      <td>Spring</td>\n",
       "      <td>2018</td>\n",
       "      <td>1</td>\n",
       "      <td>1</td>\n",
       "      <td>1</td>\n",
       "      <td>Clear</td>\n",
       "      <td>8.1</td>\n",
       "      <td>43.7</td>\n",
       "      <td>16.6</td>\n",
       "      <td>1349</td>\n",
       "    </tr>\n",
       "    <tr>\n",
       "      <th>3</th>\n",
       "      <td>Spring</td>\n",
       "      <td>2018</td>\n",
       "      <td>1</td>\n",
       "      <td>2</td>\n",
       "      <td>1</td>\n",
       "      <td>Clear</td>\n",
       "      <td>8.2</td>\n",
       "      <td>59.0</td>\n",
       "      <td>10.7</td>\n",
       "      <td>1562</td>\n",
       "    </tr>\n",
       "    <tr>\n",
       "      <th>4</th>\n",
       "      <td>Spring</td>\n",
       "      <td>2018</td>\n",
       "      <td>1</td>\n",
       "      <td>3</td>\n",
       "      <td>1</td>\n",
       "      <td>Clear</td>\n",
       "      <td>9.3</td>\n",
       "      <td>43.7</td>\n",
       "      <td>12.5</td>\n",
       "      <td>1600</td>\n",
       "    </tr>\n",
       "  </tbody>\n",
       "</table>\n",
       "</div>"
      ],
      "text/plain": [
       "   season    yr  mnth  weekday  workingday weathersit  temp   hum  windspeed  \\\n",
       "0  Spring  2018     1        6           0       Mist  14.1  80.6       10.7   \n",
       "1  Spring  2018     1        0           0       Mist  14.9  69.6       16.7   \n",
       "2  Spring  2018     1        1           1      Clear   8.1  43.7       16.6   \n",
       "3  Spring  2018     1        2           1      Clear   8.2  59.0       10.7   \n",
       "4  Spring  2018     1        3           1      Clear   9.3  43.7       12.5   \n",
       "\n",
       "    cnt  \n",
       "0   985  \n",
       "1   801  \n",
       "2  1349  \n",
       "3  1562  \n",
       "4  1600  "
      ]
     },
     "execution_count": 28,
     "metadata": {},
     "output_type": "execute_result"
    }
   ],
   "source": [
    "# list of colums found to be redundant, or unuable for model building\n",
    "drp_col=['atemp','dteday']\n",
    "df_mod=df_mod.drop(drp_col,axis=1)\n",
    "df_mod.head()"
   ]
  },
  {
   "cell_type": "code",
   "execution_count": 29,
   "id": "4017ff90",
   "metadata": {},
   "outputs": [
    {
     "data": {
      "text/plain": [
       "0      Jan\n",
       "1      Jan\n",
       "2      Jan\n",
       "3      Jan\n",
       "4      Jan\n",
       "      ... \n",
       "725    Dec\n",
       "726    Dec\n",
       "727    Dec\n",
       "728    Dec\n",
       "729    Dec\n",
       "Name: mnth, Length: 730, dtype: object"
      ]
     },
     "execution_count": 29,
     "metadata": {},
     "output_type": "execute_result"
    }
   ],
   "source": [
    "#name the months in mnth column\n",
    "df_mod.mnth=df_mod.mnth.map({1:'Jan',2:'Feb',3:'Mar',4:'Apr',5:'May',6:'Jun',7:'Jul',8:'Aug',9:'Sep',10:'Oct',11:'Nov',12:'Dec'})\n",
    "df_mod.mnth"
   ]
  },
  {
   "cell_type": "code",
   "execution_count": 30,
   "id": "bb66f727",
   "metadata": {},
   "outputs": [
    {
     "data": {
      "text/plain": [
       "0      Sat\n",
       "1      Sun\n",
       "2      Mon\n",
       "3      Tue\n",
       "4      Wed\n",
       "      ... \n",
       "725    Thu\n",
       "726    Fri\n",
       "727    Sat\n",
       "728    Sun\n",
       "729    Mon\n",
       "Name: weekday, Length: 730, dtype: object"
      ]
     },
     "execution_count": 30,
     "metadata": {},
     "output_type": "execute_result"
    }
   ],
   "source": [
    "#name the days of the weeks \n",
    "df_mod.weekday=df_mod.weekday.map({0:'Sun',1:'Mon',2:'Tue',3:'Wed',4:'Thu',5:'Fri',6:'Sat'})\n",
    "df_mod.weekday"
   ]
  },
  {
   "cell_type": "code",
   "execution_count": 31,
   "id": "2af50bf0",
   "metadata": {},
   "outputs": [],
   "source": [
    "# importing data for model buliding \n",
    "import sklearn as skl\n",
    "import statsmodels\n",
    "import statsmodels.api as sm\n",
    "from sklearn.model_selection import train_test_split\n",
    "from sklearn.metrics import r2_score\n",
    "from sklearn.linear_model import LinearRegression\n",
    "from sklearn.preprocessing import MinMaxScaler\n",
    "from sklearn.feature_selection import RFE\n",
    "from statsmodels.stats.outliers_influence import variance_inflation_factor\n"
   ]
  },
  {
   "cell_type": "code",
   "execution_count": 32,
   "id": "9ed225d0",
   "metadata": {},
   "outputs": [],
   "source": [
    "# Getting all dummies \n",
    "month_dum= pd.get_dummies(df_mod.mnth,drop_first=True)\n",
    "day_dum=pd.get_dummies(df_mod.weekday,drop_first=True)\n",
    "weath_dum=pd.get_dummies(df_mod.weathersit,drop_first=True)\n",
    "seas_dum=pd.get_dummies(df_mod.season)\n"
   ]
  },
  {
   "cell_type": "code",
   "execution_count": 33,
   "id": "d02f3894",
   "metadata": {},
   "outputs": [],
   "source": [
    "# The year holds only 2 values and can be reverted to its original config\n",
    "df_mod.yr=df_mod.yr.map({2018:0,2019:1})"
   ]
  },
  {
   "cell_type": "code",
   "execution_count": 34,
   "id": "5e00f33b",
   "metadata": {},
   "outputs": [],
   "source": [
    "# Drop all the colums whos dummies are made \n",
    "df_mod=df_mod.drop(['mnth','weekday','weathersit','season'],axis=1)"
   ]
  },
  {
   "cell_type": "code",
   "execution_count": 35,
   "id": "a043a080",
   "metadata": {},
   "outputs": [
    {
     "data": {
      "text/html": [
       "<div>\n",
       "<style scoped>\n",
       "    .dataframe tbody tr th:only-of-type {\n",
       "        vertical-align: middle;\n",
       "    }\n",
       "\n",
       "    .dataframe tbody tr th {\n",
       "        vertical-align: top;\n",
       "    }\n",
       "\n",
       "    .dataframe thead th {\n",
       "        text-align: right;\n",
       "    }\n",
       "</style>\n",
       "<table border=\"1\" class=\"dataframe\">\n",
       "  <thead>\n",
       "    <tr style=\"text-align: right;\">\n",
       "      <th></th>\n",
       "      <th>yr</th>\n",
       "      <th>workingday</th>\n",
       "      <th>temp</th>\n",
       "      <th>hum</th>\n",
       "      <th>windspeed</th>\n",
       "      <th>cnt</th>\n",
       "      <th>Aug</th>\n",
       "      <th>Dec</th>\n",
       "      <th>Feb</th>\n",
       "      <th>Jan</th>\n",
       "      <th>Jul</th>\n",
       "      <th>Jun</th>\n",
       "      <th>Mar</th>\n",
       "      <th>May</th>\n",
       "      <th>Nov</th>\n",
       "      <th>Oct</th>\n",
       "      <th>Sep</th>\n",
       "      <th>Mon</th>\n",
       "      <th>Sat</th>\n",
       "      <th>Sun</th>\n",
       "      <th>Thu</th>\n",
       "      <th>Tue</th>\n",
       "      <th>Wed</th>\n",
       "      <th>Light_snow_rain</th>\n",
       "      <th>Mist</th>\n",
       "      <th>Fall</th>\n",
       "      <th>Spring</th>\n",
       "      <th>Summer</th>\n",
       "      <th>Winter</th>\n",
       "    </tr>\n",
       "  </thead>\n",
       "  <tbody>\n",
       "    <tr>\n",
       "      <th>0</th>\n",
       "      <td>0</td>\n",
       "      <td>0</td>\n",
       "      <td>14.1</td>\n",
       "      <td>80.6</td>\n",
       "      <td>10.7</td>\n",
       "      <td>985</td>\n",
       "      <td>0</td>\n",
       "      <td>0</td>\n",
       "      <td>0</td>\n",
       "      <td>1</td>\n",
       "      <td>0</td>\n",
       "      <td>0</td>\n",
       "      <td>0</td>\n",
       "      <td>0</td>\n",
       "      <td>0</td>\n",
       "      <td>0</td>\n",
       "      <td>0</td>\n",
       "      <td>0</td>\n",
       "      <td>1</td>\n",
       "      <td>0</td>\n",
       "      <td>0</td>\n",
       "      <td>0</td>\n",
       "      <td>0</td>\n",
       "      <td>0</td>\n",
       "      <td>1</td>\n",
       "      <td>0</td>\n",
       "      <td>1</td>\n",
       "      <td>0</td>\n",
       "      <td>0</td>\n",
       "    </tr>\n",
       "    <tr>\n",
       "      <th>1</th>\n",
       "      <td>0</td>\n",
       "      <td>0</td>\n",
       "      <td>14.9</td>\n",
       "      <td>69.6</td>\n",
       "      <td>16.7</td>\n",
       "      <td>801</td>\n",
       "      <td>0</td>\n",
       "      <td>0</td>\n",
       "      <td>0</td>\n",
       "      <td>1</td>\n",
       "      <td>0</td>\n",
       "      <td>0</td>\n",
       "      <td>0</td>\n",
       "      <td>0</td>\n",
       "      <td>0</td>\n",
       "      <td>0</td>\n",
       "      <td>0</td>\n",
       "      <td>0</td>\n",
       "      <td>0</td>\n",
       "      <td>1</td>\n",
       "      <td>0</td>\n",
       "      <td>0</td>\n",
       "      <td>0</td>\n",
       "      <td>0</td>\n",
       "      <td>1</td>\n",
       "      <td>0</td>\n",
       "      <td>1</td>\n",
       "      <td>0</td>\n",
       "      <td>0</td>\n",
       "    </tr>\n",
       "    <tr>\n",
       "      <th>2</th>\n",
       "      <td>0</td>\n",
       "      <td>1</td>\n",
       "      <td>8.1</td>\n",
       "      <td>43.7</td>\n",
       "      <td>16.6</td>\n",
       "      <td>1349</td>\n",
       "      <td>0</td>\n",
       "      <td>0</td>\n",
       "      <td>0</td>\n",
       "      <td>1</td>\n",
       "      <td>0</td>\n",
       "      <td>0</td>\n",
       "      <td>0</td>\n",
       "      <td>0</td>\n",
       "      <td>0</td>\n",
       "      <td>0</td>\n",
       "      <td>0</td>\n",
       "      <td>1</td>\n",
       "      <td>0</td>\n",
       "      <td>0</td>\n",
       "      <td>0</td>\n",
       "      <td>0</td>\n",
       "      <td>0</td>\n",
       "      <td>0</td>\n",
       "      <td>0</td>\n",
       "      <td>0</td>\n",
       "      <td>1</td>\n",
       "      <td>0</td>\n",
       "      <td>0</td>\n",
       "    </tr>\n",
       "    <tr>\n",
       "      <th>3</th>\n",
       "      <td>0</td>\n",
       "      <td>1</td>\n",
       "      <td>8.2</td>\n",
       "      <td>59.0</td>\n",
       "      <td>10.7</td>\n",
       "      <td>1562</td>\n",
       "      <td>0</td>\n",
       "      <td>0</td>\n",
       "      <td>0</td>\n",
       "      <td>1</td>\n",
       "      <td>0</td>\n",
       "      <td>0</td>\n",
       "      <td>0</td>\n",
       "      <td>0</td>\n",
       "      <td>0</td>\n",
       "      <td>0</td>\n",
       "      <td>0</td>\n",
       "      <td>0</td>\n",
       "      <td>0</td>\n",
       "      <td>0</td>\n",
       "      <td>0</td>\n",
       "      <td>1</td>\n",
       "      <td>0</td>\n",
       "      <td>0</td>\n",
       "      <td>0</td>\n",
       "      <td>0</td>\n",
       "      <td>1</td>\n",
       "      <td>0</td>\n",
       "      <td>0</td>\n",
       "    </tr>\n",
       "    <tr>\n",
       "      <th>4</th>\n",
       "      <td>0</td>\n",
       "      <td>1</td>\n",
       "      <td>9.3</td>\n",
       "      <td>43.7</td>\n",
       "      <td>12.5</td>\n",
       "      <td>1600</td>\n",
       "      <td>0</td>\n",
       "      <td>0</td>\n",
       "      <td>0</td>\n",
       "      <td>1</td>\n",
       "      <td>0</td>\n",
       "      <td>0</td>\n",
       "      <td>0</td>\n",
       "      <td>0</td>\n",
       "      <td>0</td>\n",
       "      <td>0</td>\n",
       "      <td>0</td>\n",
       "      <td>0</td>\n",
       "      <td>0</td>\n",
       "      <td>0</td>\n",
       "      <td>0</td>\n",
       "      <td>0</td>\n",
       "      <td>1</td>\n",
       "      <td>0</td>\n",
       "      <td>0</td>\n",
       "      <td>0</td>\n",
       "      <td>1</td>\n",
       "      <td>0</td>\n",
       "      <td>0</td>\n",
       "    </tr>\n",
       "    <tr>\n",
       "      <th>...</th>\n",
       "      <td>...</td>\n",
       "      <td>...</td>\n",
       "      <td>...</td>\n",
       "      <td>...</td>\n",
       "      <td>...</td>\n",
       "      <td>...</td>\n",
       "      <td>...</td>\n",
       "      <td>...</td>\n",
       "      <td>...</td>\n",
       "      <td>...</td>\n",
       "      <td>...</td>\n",
       "      <td>...</td>\n",
       "      <td>...</td>\n",
       "      <td>...</td>\n",
       "      <td>...</td>\n",
       "      <td>...</td>\n",
       "      <td>...</td>\n",
       "      <td>...</td>\n",
       "      <td>...</td>\n",
       "      <td>...</td>\n",
       "      <td>...</td>\n",
       "      <td>...</td>\n",
       "      <td>...</td>\n",
       "      <td>...</td>\n",
       "      <td>...</td>\n",
       "      <td>...</td>\n",
       "      <td>...</td>\n",
       "      <td>...</td>\n",
       "      <td>...</td>\n",
       "    </tr>\n",
       "    <tr>\n",
       "      <th>725</th>\n",
       "      <td>1</td>\n",
       "      <td>1</td>\n",
       "      <td>10.4</td>\n",
       "      <td>65.3</td>\n",
       "      <td>23.5</td>\n",
       "      <td>2114</td>\n",
       "      <td>0</td>\n",
       "      <td>1</td>\n",
       "      <td>0</td>\n",
       "      <td>0</td>\n",
       "      <td>0</td>\n",
       "      <td>0</td>\n",
       "      <td>0</td>\n",
       "      <td>0</td>\n",
       "      <td>0</td>\n",
       "      <td>0</td>\n",
       "      <td>0</td>\n",
       "      <td>0</td>\n",
       "      <td>0</td>\n",
       "      <td>0</td>\n",
       "      <td>1</td>\n",
       "      <td>0</td>\n",
       "      <td>0</td>\n",
       "      <td>0</td>\n",
       "      <td>1</td>\n",
       "      <td>0</td>\n",
       "      <td>1</td>\n",
       "      <td>0</td>\n",
       "      <td>0</td>\n",
       "    </tr>\n",
       "    <tr>\n",
       "      <th>726</th>\n",
       "      <td>1</td>\n",
       "      <td>1</td>\n",
       "      <td>10.4</td>\n",
       "      <td>59.0</td>\n",
       "      <td>10.4</td>\n",
       "      <td>3095</td>\n",
       "      <td>0</td>\n",
       "      <td>1</td>\n",
       "      <td>0</td>\n",
       "      <td>0</td>\n",
       "      <td>0</td>\n",
       "      <td>0</td>\n",
       "      <td>0</td>\n",
       "      <td>0</td>\n",
       "      <td>0</td>\n",
       "      <td>0</td>\n",
       "      <td>0</td>\n",
       "      <td>0</td>\n",
       "      <td>0</td>\n",
       "      <td>0</td>\n",
       "      <td>0</td>\n",
       "      <td>0</td>\n",
       "      <td>0</td>\n",
       "      <td>0</td>\n",
       "      <td>1</td>\n",
       "      <td>0</td>\n",
       "      <td>1</td>\n",
       "      <td>0</td>\n",
       "      <td>0</td>\n",
       "    </tr>\n",
       "    <tr>\n",
       "      <th>727</th>\n",
       "      <td>1</td>\n",
       "      <td>0</td>\n",
       "      <td>10.4</td>\n",
       "      <td>75.3</td>\n",
       "      <td>8.3</td>\n",
       "      <td>1341</td>\n",
       "      <td>0</td>\n",
       "      <td>1</td>\n",
       "      <td>0</td>\n",
       "      <td>0</td>\n",
       "      <td>0</td>\n",
       "      <td>0</td>\n",
       "      <td>0</td>\n",
       "      <td>0</td>\n",
       "      <td>0</td>\n",
       "      <td>0</td>\n",
       "      <td>0</td>\n",
       "      <td>0</td>\n",
       "      <td>1</td>\n",
       "      <td>0</td>\n",
       "      <td>0</td>\n",
       "      <td>0</td>\n",
       "      <td>0</td>\n",
       "      <td>0</td>\n",
       "      <td>1</td>\n",
       "      <td>0</td>\n",
       "      <td>1</td>\n",
       "      <td>0</td>\n",
       "      <td>0</td>\n",
       "    </tr>\n",
       "    <tr>\n",
       "      <th>728</th>\n",
       "      <td>1</td>\n",
       "      <td>0</td>\n",
       "      <td>10.5</td>\n",
       "      <td>48.3</td>\n",
       "      <td>23.5</td>\n",
       "      <td>1796</td>\n",
       "      <td>0</td>\n",
       "      <td>1</td>\n",
       "      <td>0</td>\n",
       "      <td>0</td>\n",
       "      <td>0</td>\n",
       "      <td>0</td>\n",
       "      <td>0</td>\n",
       "      <td>0</td>\n",
       "      <td>0</td>\n",
       "      <td>0</td>\n",
       "      <td>0</td>\n",
       "      <td>0</td>\n",
       "      <td>0</td>\n",
       "      <td>1</td>\n",
       "      <td>0</td>\n",
       "      <td>0</td>\n",
       "      <td>0</td>\n",
       "      <td>0</td>\n",
       "      <td>0</td>\n",
       "      <td>0</td>\n",
       "      <td>1</td>\n",
       "      <td>0</td>\n",
       "      <td>0</td>\n",
       "    </tr>\n",
       "    <tr>\n",
       "      <th>729</th>\n",
       "      <td>1</td>\n",
       "      <td>1</td>\n",
       "      <td>8.8</td>\n",
       "      <td>57.8</td>\n",
       "      <td>10.4</td>\n",
       "      <td>2729</td>\n",
       "      <td>0</td>\n",
       "      <td>1</td>\n",
       "      <td>0</td>\n",
       "      <td>0</td>\n",
       "      <td>0</td>\n",
       "      <td>0</td>\n",
       "      <td>0</td>\n",
       "      <td>0</td>\n",
       "      <td>0</td>\n",
       "      <td>0</td>\n",
       "      <td>0</td>\n",
       "      <td>1</td>\n",
       "      <td>0</td>\n",
       "      <td>0</td>\n",
       "      <td>0</td>\n",
       "      <td>0</td>\n",
       "      <td>0</td>\n",
       "      <td>0</td>\n",
       "      <td>1</td>\n",
       "      <td>0</td>\n",
       "      <td>1</td>\n",
       "      <td>0</td>\n",
       "      <td>0</td>\n",
       "    </tr>\n",
       "  </tbody>\n",
       "</table>\n",
       "<p>730 rows × 29 columns</p>\n",
       "</div>"
      ],
      "text/plain": [
       "     yr  workingday  temp   hum  windspeed   cnt  Aug  Dec  Feb  Jan  Jul  \\\n",
       "0     0           0  14.1  80.6       10.7   985    0    0    0    1    0   \n",
       "1     0           0  14.9  69.6       16.7   801    0    0    0    1    0   \n",
       "2     0           1   8.1  43.7       16.6  1349    0    0    0    1    0   \n",
       "3     0           1   8.2  59.0       10.7  1562    0    0    0    1    0   \n",
       "4     0           1   9.3  43.7       12.5  1600    0    0    0    1    0   \n",
       "..   ..         ...   ...   ...        ...   ...  ...  ...  ...  ...  ...   \n",
       "725   1           1  10.4  65.3       23.5  2114    0    1    0    0    0   \n",
       "726   1           1  10.4  59.0       10.4  3095    0    1    0    0    0   \n",
       "727   1           0  10.4  75.3        8.3  1341    0    1    0    0    0   \n",
       "728   1           0  10.5  48.3       23.5  1796    0    1    0    0    0   \n",
       "729   1           1   8.8  57.8       10.4  2729    0    1    0    0    0   \n",
       "\n",
       "     Jun  Mar  May  Nov  Oct  Sep  Mon  Sat  Sun  Thu  Tue  Wed  \\\n",
       "0      0    0    0    0    0    0    0    1    0    0    0    0   \n",
       "1      0    0    0    0    0    0    0    0    1    0    0    0   \n",
       "2      0    0    0    0    0    0    1    0    0    0    0    0   \n",
       "3      0    0    0    0    0    0    0    0    0    0    1    0   \n",
       "4      0    0    0    0    0    0    0    0    0    0    0    1   \n",
       "..   ...  ...  ...  ...  ...  ...  ...  ...  ...  ...  ...  ...   \n",
       "725    0    0    0    0    0    0    0    0    0    1    0    0   \n",
       "726    0    0    0    0    0    0    0    0    0    0    0    0   \n",
       "727    0    0    0    0    0    0    0    1    0    0    0    0   \n",
       "728    0    0    0    0    0    0    0    0    1    0    0    0   \n",
       "729    0    0    0    0    0    0    1    0    0    0    0    0   \n",
       "\n",
       "     Light_snow_rain  Mist  Fall  Spring  Summer  Winter  \n",
       "0                  0     1     0       1       0       0  \n",
       "1                  0     1     0       1       0       0  \n",
       "2                  0     0     0       1       0       0  \n",
       "3                  0     0     0       1       0       0  \n",
       "4                  0     0     0       1       0       0  \n",
       "..               ...   ...   ...     ...     ...     ...  \n",
       "725                0     1     0       1       0       0  \n",
       "726                0     1     0       1       0       0  \n",
       "727                0     1     0       1       0       0  \n",
       "728                0     0     0       1       0       0  \n",
       "729                0     1     0       1       0       0  \n",
       "\n",
       "[730 rows x 29 columns]"
      ]
     },
     "execution_count": 35,
     "metadata": {},
     "output_type": "execute_result"
    }
   ],
   "source": [
    "#making the final data frame for building the model\n",
    "final_df=pd.concat([df_mod,month_dum,day_dum,weath_dum,seas_dum],axis=1)\n",
    "pd.set_option('display.max_columns',None)\n",
    "final_df"
   ]
  },
  {
   "cell_type": "code",
   "execution_count": 36,
   "id": "35c05dce",
   "metadata": {},
   "outputs": [],
   "source": [
    "# final model data has 29 columns\n",
    "# We need to split the data into Tarin and Test set to validate the model that is made .\n",
    "df_train , df_test= train_test_split(final_df,train_size=0.7 ,test_size=0.3,random_state=100)"
   ]
  },
  {
   "cell_type": "code",
   "execution_count": 37,
   "id": "d9795f9e",
   "metadata": {},
   "outputs": [],
   "source": [
    "# Apply scaler for the numeric data\n",
    "scaler=MinMaxScaler()\n",
    "num_var=['temp','hum','windspeed','cnt']\n",
    "df_train[num_var]=scaler.fit_transform(df_train[num_var])\n",
    "df_test[num_var]=scaler.transform(df_test[num_var])# since we must transform the test set the same as the train set .\n"
   ]
  },
  {
   "cell_type": "code",
   "execution_count": 38,
   "id": "4d15697e",
   "metadata": {},
   "outputs": [],
   "source": [
    "# pop the target variable \n",
    "y_train=df_train.pop('cnt')\n",
    "X_train=df_train\n",
    "# perform the same on the test set\n",
    "y_test=df_test.pop('cnt')\n",
    "X_test=df_test\n"
   ]
  },
  {
   "cell_type": "markdown",
   "id": "1651fcd2",
   "metadata": {},
   "source": [
    "##### we will be using the LinearRegression function from SciKit Learn for its compatibility with RFE "
   ]
  },
  {
   "cell_type": "code",
   "execution_count": 39,
   "id": "18555f06",
   "metadata": {},
   "outputs": [
    {
     "data": {
      "text/plain": [
       "[('yr', True, 1),\n",
       " ('workingday', True, 1),\n",
       " ('temp', True, 1),\n",
       " ('hum', True, 1),\n",
       " ('windspeed', True, 1),\n",
       " ('Aug', False, 7),\n",
       " ('Dec', False, 4),\n",
       " ('Feb', False, 5),\n",
       " ('Jan', False, 2),\n",
       " ('Jul', True, 1),\n",
       " ('Jun', False, 12),\n",
       " ('Mar', False, 14),\n",
       " ('May', False, 6),\n",
       " ('Nov', False, 3),\n",
       " ('Oct', False, 13),\n",
       " ('Sep', True, 1),\n",
       " ('Mon', False, 8),\n",
       " ('Sat', True, 1),\n",
       " ('Sun', True, 1),\n",
       " ('Thu', False, 10),\n",
       " ('Tue', False, 9),\n",
       " ('Wed', False, 11),\n",
       " ('Light_snow_rain', True, 1),\n",
       " ('Mist', True, 1),\n",
       " ('Fall', True, 1),\n",
       " ('Spring', True, 1),\n",
       " ('Summer', True, 1),\n",
       " ('Winter', True, 1)]"
      ]
     },
     "execution_count": 39,
     "metadata": {},
     "output_type": "execute_result"
    }
   ],
   "source": [
    "# Recursive feature elimination\n",
    "lm1= LinearRegression()\n",
    "lm1.fit(X_train,y_train)\n",
    "rfe= RFE(lm1,15) # Automated feature selection \n",
    "rfe= rfe.fit(X_train,y_train)\n",
    "list(zip(X_train.columns,rfe.support_,rfe.ranking_))"
   ]
  },
  {
   "cell_type": "code",
   "execution_count": 40,
   "id": "375bfdd1",
   "metadata": {},
   "outputs": [
    {
     "data": {
      "text/plain": [
       "Index(['yr', 'workingday', 'temp', 'hum', 'windspeed', 'Jul', 'Sep', 'Sat',\n",
       "       'Sun', 'Light_snow_rain', 'Mist', 'Fall', 'Spring', 'Summer', 'Winter'],\n",
       "      dtype='object')"
      ]
     },
     "execution_count": 40,
     "metadata": {},
     "output_type": "execute_result"
    }
   ],
   "source": [
    "cols=X_train.columns[rfe.support_]\n",
    "cols"
   ]
  },
  {
   "cell_type": "code",
   "execution_count": 41,
   "id": "5a473a16",
   "metadata": {},
   "outputs": [],
   "source": [
    "drop_cols=X_train.columns[~rfe.support_]# Columns that were de selected by RFE \n",
    "drop_cols=list(drop_cols)"
   ]
  },
  {
   "cell_type": "markdown",
   "id": "ab32d474",
   "metadata": {},
   "source": [
    "## Building a modle using statsmodel so we get deatiled stats"
   ]
  },
  {
   "cell_type": "code",
   "execution_count": 42,
   "id": "85813eb4",
   "metadata": {},
   "outputs": [],
   "source": [
    "#X_train made using the columns selected buy RFE\n",
    "X_train_rfe=X_train[cols]\n",
    "X_train_rfe=sm.add_constant(X_train_rfe)# add constant to data set"
   ]
  },
  {
   "cell_type": "code",
   "execution_count": 43,
   "id": "066784c6",
   "metadata": {},
   "outputs": [],
   "source": [
    "# Running the Linear model 1\n",
    "lm1=sm.OLS(y_train,X_train_rfe).fit()"
   ]
  },
  {
   "cell_type": "code",
   "execution_count": 44,
   "id": "7e9b728f",
   "metadata": {},
   "outputs": [
    {
     "name": "stdout",
     "output_type": "stream",
     "text": [
      "                            OLS Regression Results                            \n",
      "==============================================================================\n",
      "Dep. Variable:                    cnt   R-squared:                       0.848\n",
      "Model:                            OLS   Adj. R-squared:                  0.843\n",
      "Method:                 Least Squares   F-statistic:                     196.5\n",
      "Date:                Mon, 30 May 2022   Prob (F-statistic):          9.31e-192\n",
      "Time:                        16:43:47   Log-Likelihood:                 518.06\n",
      "No. Observations:                 510   AIC:                            -1006.\n",
      "Df Residuals:                     495   BIC:                            -942.6\n",
      "Df Model:                          14                                         \n",
      "Covariance Type:            nonrobust                                         \n",
      "===================================================================================\n",
      "                      coef    std err          t      P>|t|      [0.025      0.975]\n",
      "-----------------------------------------------------------------------------------\n",
      "const               0.1404      0.028      5.091      0.000       0.086       0.195\n",
      "yr                  0.2291      0.008     28.527      0.000       0.213       0.245\n",
      "workingday          0.1028      0.025      4.053      0.000       0.053       0.153\n",
      "temp                0.5331      0.033     15.916      0.000       0.467       0.599\n",
      "hum                -0.1369      0.032     -4.247      0.000      -0.200      -0.074\n",
      "windspeed          -0.1829      0.026     -7.152      0.000      -0.233      -0.133\n",
      "Jul                -0.0554      0.018     -3.064      0.002      -0.091      -0.020\n",
      "Sep                 0.0819      0.016      4.964      0.000       0.049       0.114\n",
      "Sat                 0.1122      0.027      4.187      0.000       0.060       0.165\n",
      "Sun                 0.0594      0.027      2.205      0.028       0.006       0.112\n",
      "Light_snow_rain    -0.2350      0.027     -8.620      0.000      -0.289      -0.181\n",
      "Mist               -0.0562      0.011     -5.271      0.000      -0.077      -0.035\n",
      "Fall                0.0093      0.015      0.601      0.548      -0.021       0.039\n",
      "Spring             -0.0431      0.010     -4.131      0.000      -0.064      -0.023\n",
      "Summer              0.0630      0.011      5.754      0.000       0.041       0.084\n",
      "Winter              0.1112      0.010     11.629      0.000       0.092       0.130\n",
      "==============================================================================\n",
      "Omnibus:                       65.127   Durbin-Watson:                   2.069\n",
      "Prob(Omnibus):                  0.000   Jarque-Bera (JB):              157.773\n",
      "Skew:                          -0.666   Prob(JB):                     5.50e-35\n",
      "Kurtosis:                       5.377   Cond. No.                     1.33e+16\n",
      "==============================================================================\n",
      "\n",
      "Notes:\n",
      "[1] Standard Errors assume that the covariance matrix of the errors is correctly specified.\n",
      "[2] The smallest eigenvalue is 8.48e-30. This might indicate that there are\n",
      "strong multicollinearity problems or that the design matrix is singular.\n"
     ]
    }
   ],
   "source": [
    "print(lm1.summary())"
   ]
  },
  {
   "cell_type": "markdown",
   "id": "7070fc4c",
   "metadata": {},
   "source": [
    "We can drop \"Fall\" as it has very high P value "
   ]
  },
  {
   "cell_type": "code",
   "execution_count": 45,
   "id": "d9bd0bce",
   "metadata": {},
   "outputs": [
    {
     "name": "stdout",
     "output_type": "stream",
     "text": [
      "                            OLS Regression Results                            \n",
      "==============================================================================\n",
      "Dep. Variable:                    cnt   R-squared:                       0.848\n",
      "Model:                            OLS   Adj. R-squared:                  0.843\n",
      "Method:                 Least Squares   F-statistic:                     196.5\n",
      "Date:                Mon, 30 May 2022   Prob (F-statistic):          9.31e-192\n",
      "Time:                        16:43:47   Log-Likelihood:                 518.06\n",
      "No. Observations:                 510   AIC:                            -1006.\n",
      "Df Residuals:                     495   BIC:                            -942.6\n",
      "Df Model:                          14                                         \n",
      "Covariance Type:            nonrobust                                         \n",
      "===================================================================================\n",
      "                      coef    std err          t      P>|t|      [0.025      0.975]\n",
      "-----------------------------------------------------------------------------------\n",
      "const               0.1496      0.040      3.786      0.000       0.072       0.227\n",
      "yr                  0.2291      0.008     28.527      0.000       0.213       0.245\n",
      "workingday          0.1028      0.025      4.053      0.000       0.053       0.153\n",
      "temp                0.5331      0.033     15.916      0.000       0.467       0.599\n",
      "hum                -0.1369      0.032     -4.247      0.000      -0.200      -0.074\n",
      "windspeed          -0.1829      0.026     -7.152      0.000      -0.233      -0.133\n",
      "Jul                -0.0554      0.018     -3.064      0.002      -0.091      -0.020\n",
      "Sep                 0.0819      0.016      4.964      0.000       0.049       0.114\n",
      "Sat                 0.1122      0.027      4.187      0.000       0.060       0.165\n",
      "Sun                 0.0594      0.027      2.205      0.028       0.006       0.112\n",
      "Light_snow_rain    -0.2350      0.027     -8.620      0.000      -0.289      -0.181\n",
      "Mist               -0.0562      0.011     -5.271      0.000      -0.077      -0.035\n",
      "Spring             -0.0523      0.021     -2.534      0.012      -0.093      -0.012\n",
      "Summer              0.0537      0.015      3.621      0.000       0.025       0.083\n",
      "Winter              0.1020      0.017      5.965      0.000       0.068       0.136\n",
      "==============================================================================\n",
      "Omnibus:                       65.127   Durbin-Watson:                   2.069\n",
      "Prob(Omnibus):                  0.000   Jarque-Bera (JB):              157.773\n",
      "Skew:                          -0.666   Prob(JB):                     5.50e-35\n",
      "Kurtosis:                       5.377   Cond. No.                         24.2\n",
      "==============================================================================\n",
      "\n",
      "Notes:\n",
      "[1] Standard Errors assume that the covariance matrix of the errors is correctly specified.\n"
     ]
    }
   ],
   "source": [
    "# Lets write a funtion to help us drop a column and makae the Linear Model\n",
    "def buildlm(old_drop,new_drop,df,target=y_train):\n",
    "    old_drop.append(new_drop)\n",
    "    df=df.drop(old_drop,axis=1)\n",
    "    lm=sm.OLS(target,df).fit()\n",
    "    print(lm.summary())\n",
    "    return old_drop,lm\n",
    "drop_cols1=[]\n",
    "drop_cols2 , lm2 = buildlm(drop_cols1,'Fall',X_train_rfe)"
   ]
  },
  {
   "cell_type": "markdown",
   "id": "f4c7f2bc",
   "metadata": {},
   "source": [
    "Now we can drop \"Sun\""
   ]
  },
  {
   "cell_type": "code",
   "execution_count": 46,
   "id": "1e5ae5e7",
   "metadata": {},
   "outputs": [
    {
     "name": "stdout",
     "output_type": "stream",
     "text": [
      "                            OLS Regression Results                            \n",
      "==============================================================================\n",
      "Dep. Variable:                    cnt   R-squared:                       0.846\n",
      "Model:                            OLS   Adj. R-squared:                  0.842\n",
      "Method:                 Least Squares   F-statistic:                     209.6\n",
      "Date:                Mon, 30 May 2022   Prob (F-statistic):          7.01e-192\n",
      "Time:                        16:43:48   Log-Likelihood:                 515.57\n",
      "No. Observations:                 510   AIC:                            -1003.\n",
      "Df Residuals:                     496   BIC:                            -943.9\n",
      "Df Model:                          13                                         \n",
      "Covariance Type:            nonrobust                                         \n",
      "===================================================================================\n",
      "                      coef    std err          t      P>|t|      [0.025      0.975]\n",
      "-----------------------------------------------------------------------------------\n",
      "const               0.1997      0.032      6.150      0.000       0.136       0.263\n",
      "yr                  0.2293      0.008     28.449      0.000       0.214       0.245\n",
      "workingday          0.0522      0.011      4.806      0.000       0.031       0.074\n",
      "temp                0.5332      0.034     15.857      0.000       0.467       0.599\n",
      "hum                -0.1354      0.032     -4.186      0.000      -0.199      -0.072\n",
      "windspeed          -0.1834      0.026     -7.145      0.000      -0.234      -0.133\n",
      "Jul                -0.0543      0.018     -2.990      0.003      -0.090      -0.019\n",
      "Sep                 0.0798      0.017      4.827      0.000       0.047       0.112\n",
      "Sat                 0.0617      0.014      4.407      0.000       0.034       0.089\n",
      "Light_snow_rain    -0.2343      0.027     -8.564      0.000      -0.288      -0.181\n",
      "Mist               -0.0559      0.011     -5.229      0.000      -0.077      -0.035\n",
      "Spring             -0.0534      0.021     -2.577      0.010      -0.094      -0.013\n",
      "Summer              0.0540      0.015      3.631      0.000       0.025       0.083\n",
      "Winter              0.1010      0.017      5.888      0.000       0.067       0.135\n",
      "==============================================================================\n",
      "Omnibus:                       71.938   Durbin-Watson:                   2.051\n",
      "Prob(Omnibus):                  0.000   Jarque-Bera (JB):              185.252\n",
      "Skew:                          -0.711   Prob(JB):                     5.93e-41\n",
      "Kurtosis:                       5.587   Cond. No.                         20.7\n",
      "==============================================================================\n",
      "\n",
      "Notes:\n",
      "[1] Standard Errors assume that the covariance matrix of the errors is correctly specified.\n"
     ]
    }
   ],
   "source": [
    "drop_cols3 , lm3 = buildlm(drop_cols2,'Sun',X_train_rfe)"
   ]
  },
  {
   "cell_type": "markdown",
   "id": "613cf38f",
   "metadata": {},
   "source": [
    "Dropping 'Spring' as its P value is high"
   ]
  },
  {
   "cell_type": "code",
   "execution_count": 47,
   "id": "f422da2b",
   "metadata": {},
   "outputs": [
    {
     "name": "stdout",
     "output_type": "stream",
     "text": [
      "                            OLS Regression Results                            \n",
      "==============================================================================\n",
      "Dep. Variable:                    cnt   R-squared:                       0.844\n",
      "Model:                            OLS   Adj. R-squared:                  0.840\n",
      "Method:                 Least Squares   F-statistic:                     224.0\n",
      "Date:                Mon, 30 May 2022   Prob (F-statistic):          1.22e-191\n",
      "Time:                        16:43:48   Log-Likelihood:                 512.18\n",
      "No. Observations:                 510   AIC:                            -998.4\n",
      "Df Residuals:                     497   BIC:                            -943.3\n",
      "Df Model:                          12                                         \n",
      "Covariance Type:            nonrobust                                         \n",
      "===================================================================================\n",
      "                      coef    std err          t      P>|t|      [0.025      0.975]\n",
      "-----------------------------------------------------------------------------------\n",
      "const               0.1431      0.024      5.950      0.000       0.096       0.190\n",
      "yr                  0.2279      0.008     28.179      0.000       0.212       0.244\n",
      "workingday          0.0527      0.011      4.829      0.000       0.031       0.074\n",
      "temp                0.5981      0.022     26.701      0.000       0.554       0.642\n",
      "hum                -0.1473      0.032     -4.577      0.000      -0.211      -0.084\n",
      "windspeed          -0.1911      0.026     -7.453      0.000      -0.241      -0.141\n",
      "Jul                -0.0455      0.018     -2.537      0.011      -0.081      -0.010\n",
      "Sep                 0.0920      0.016      5.777      0.000       0.061       0.123\n",
      "Sat                 0.0621      0.014      4.408      0.000       0.034       0.090\n",
      "Light_snow_rain    -0.2277      0.027     -8.311      0.000      -0.281      -0.174\n",
      "Mist               -0.0530      0.011     -4.952      0.000      -0.074      -0.032\n",
      "Summer              0.0810      0.011      7.617      0.000       0.060       0.102\n",
      "Winter              0.1363      0.010     13.084      0.000       0.116       0.157\n",
      "==============================================================================\n",
      "Omnibus:                       66.182   Durbin-Watson:                   2.064\n",
      "Prob(Omnibus):                  0.000   Jarque-Bera (JB):              152.201\n",
      "Skew:                          -0.693   Prob(JB):                     8.91e-34\n",
      "Kurtosis:                       5.289   Cond. No.                         18.0\n",
      "==============================================================================\n",
      "\n",
      "Notes:\n",
      "[1] Standard Errors assume that the covariance matrix of the errors is correctly specified.\n"
     ]
    }
   ],
   "source": [
    "drop_cols4 , lm4 = buildlm(drop_cols3,'Spring',X_train_rfe)"
   ]
  },
  {
   "cell_type": "code",
   "execution_count": 48,
   "id": "8b6f441e",
   "metadata": {},
   "outputs": [
    {
     "data": {
      "text/html": [
       "<div>\n",
       "<style scoped>\n",
       "    .dataframe tbody tr th:only-of-type {\n",
       "        vertical-align: middle;\n",
       "    }\n",
       "\n",
       "    .dataframe tbody tr th {\n",
       "        vertical-align: top;\n",
       "    }\n",
       "\n",
       "    .dataframe thead th {\n",
       "        text-align: right;\n",
       "    }\n",
       "</style>\n",
       "<table border=\"1\" class=\"dataframe\">\n",
       "  <thead>\n",
       "    <tr style=\"text-align: right;\">\n",
       "      <th></th>\n",
       "      <th>Features</th>\n",
       "      <th>VIF</th>\n",
       "    </tr>\n",
       "  </thead>\n",
       "  <tbody>\n",
       "    <tr>\n",
       "      <th>3</th>\n",
       "      <td>hum</td>\n",
       "      <td>13.40</td>\n",
       "    </tr>\n",
       "    <tr>\n",
       "      <th>2</th>\n",
       "      <td>temp</td>\n",
       "      <td>10.04</td>\n",
       "    </tr>\n",
       "    <tr>\n",
       "      <th>1</th>\n",
       "      <td>workingday</td>\n",
       "      <td>4.37</td>\n",
       "    </tr>\n",
       "    <tr>\n",
       "      <th>4</th>\n",
       "      <td>windspeed</td>\n",
       "      <td>3.55</td>\n",
       "    </tr>\n",
       "    <tr>\n",
       "      <th>9</th>\n",
       "      <td>Mist</td>\n",
       "      <td>2.30</td>\n",
       "    </tr>\n",
       "    <tr>\n",
       "      <th>0</th>\n",
       "      <td>yr</td>\n",
       "      <td>2.02</td>\n",
       "    </tr>\n",
       "    <tr>\n",
       "      <th>10</th>\n",
       "      <td>Summer</td>\n",
       "      <td>1.75</td>\n",
       "    </tr>\n",
       "    <tr>\n",
       "      <th>7</th>\n",
       "      <td>Sat</td>\n",
       "      <td>1.74</td>\n",
       "    </tr>\n",
       "    <tr>\n",
       "      <th>11</th>\n",
       "      <td>Winter</td>\n",
       "      <td>1.68</td>\n",
       "    </tr>\n",
       "    <tr>\n",
       "      <th>5</th>\n",
       "      <td>Jul</td>\n",
       "      <td>1.55</td>\n",
       "    </tr>\n",
       "    <tr>\n",
       "      <th>6</th>\n",
       "      <td>Sep</td>\n",
       "      <td>1.29</td>\n",
       "    </tr>\n",
       "    <tr>\n",
       "      <th>8</th>\n",
       "      <td>Light_snow_rain</td>\n",
       "      <td>1.26</td>\n",
       "    </tr>\n",
       "  </tbody>\n",
       "</table>\n",
       "</div>"
      ],
      "text/plain": [
       "           Features    VIF\n",
       "3               hum  13.40\n",
       "2              temp  10.04\n",
       "1        workingday   4.37\n",
       "4         windspeed   3.55\n",
       "9              Mist   2.30\n",
       "0                yr   2.02\n",
       "10           Summer   1.75\n",
       "7               Sat   1.74\n",
       "11           Winter   1.68\n",
       "5               Jul   1.55\n",
       "6               Sep   1.29\n",
       "8   Light_snow_rain   1.26"
      ]
     },
     "metadata": {},
     "output_type": "display_data"
    }
   ],
   "source": [
    "# Lets look at the VIF to pull out multicollinearity\n",
    "def showVIF(df,cols):\n",
    "    vif=pd.DataFrame()\n",
    "    X=df.drop('const',axis=1)\n",
    "    X=X.drop(cols,axis=1)\n",
    "    vif['Features']=X.columns\n",
    "    vif['VIF']=[variance_inflation_factor(X.values,i) for i in range(X.shape[1])]\n",
    "    vif['VIF']=round(vif['VIF'],2)\n",
    "    vif=vif.sort_values(by='VIF',ascending= False)\n",
    "    display(vif)\n",
    "\n",
    "showVIF(X_train_rfe,drop_cols4)"
   ]
  },
  {
   "cell_type": "markdown",
   "id": "bc7856af",
   "metadata": {},
   "source": [
    "\"Jul\" Has a very hhigh P Value we can drop that and hope that the VIF of other columns drops"
   ]
  },
  {
   "cell_type": "code",
   "execution_count": 49,
   "id": "6b9057af",
   "metadata": {},
   "outputs": [
    {
     "name": "stdout",
     "output_type": "stream",
     "text": [
      "                            OLS Regression Results                            \n",
      "==============================================================================\n",
      "Dep. Variable:                    cnt   R-squared:                       0.842\n",
      "Model:                            OLS   Adj. R-squared:                  0.838\n",
      "Method:                 Least Squares   F-statistic:                     241.1\n",
      "Date:                Mon, 30 May 2022   Prob (F-statistic):          1.86e-191\n",
      "Time:                        16:43:48   Log-Likelihood:                 508.90\n",
      "No. Observations:                 510   AIC:                            -993.8\n",
      "Df Residuals:                     498   BIC:                            -943.0\n",
      "Df Model:                          11                                         \n",
      "Covariance Type:            nonrobust                                         \n",
      "===================================================================================\n",
      "                      coef    std err          t      P>|t|      [0.025      0.975]\n",
      "-----------------------------------------------------------------------------------\n",
      "const               0.1432      0.024      5.921      0.000       0.096       0.191\n",
      "yr                  0.2289      0.008     28.176      0.000       0.213       0.245\n",
      "workingday          0.0537      0.011      4.890      0.000       0.032       0.075\n",
      "temp                0.5721      0.020     28.574      0.000       0.533       0.611\n",
      "hum                -0.1391      0.032     -4.319      0.000      -0.202      -0.076\n",
      "windspeed          -0.1882      0.026     -7.310      0.000      -0.239      -0.138\n",
      "Sep                 0.1022      0.015      6.597      0.000       0.072       0.133\n",
      "Sat                 0.0626      0.014      4.416      0.000       0.035       0.090\n",
      "Light_snow_rain    -0.2323      0.027     -8.452      0.000      -0.286      -0.178\n",
      "Mist               -0.0535      0.011     -4.976      0.000      -0.075      -0.032\n",
      "Summer              0.0897      0.010      8.846      0.000       0.070       0.110\n",
      "Winter              0.1405      0.010     13.591      0.000       0.120       0.161\n",
      "==============================================================================\n",
      "Omnibus:                       73.570   Durbin-Watson:                   2.093\n",
      "Prob(Omnibus):                  0.000   Jarque-Bera (JB):              170.275\n",
      "Skew:                          -0.763   Prob(JB):                     1.06e-37\n",
      "Kurtosis:                       5.384   Cond. No.                         17.9\n",
      "==============================================================================\n",
      "\n",
      "Notes:\n",
      "[1] Standard Errors assume that the covariance matrix of the errors is correctly specified.\n"
     ]
    }
   ],
   "source": [
    "drop_cols5 , lm5 = buildlm(drop_cols4,'Jul',X_train_rfe)"
   ]
  },
  {
   "cell_type": "markdown",
   "id": "feafdcfe",
   "metadata": {},
   "source": [
    "All P Values are excellent now, Lets look at the VIF and Reduce multicollinearity"
   ]
  },
  {
   "cell_type": "code",
   "execution_count": 50,
   "id": "5104e31a",
   "metadata": {},
   "outputs": [
    {
     "data": {
      "text/html": [
       "<div>\n",
       "<style scoped>\n",
       "    .dataframe tbody tr th:only-of-type {\n",
       "        vertical-align: middle;\n",
       "    }\n",
       "\n",
       "    .dataframe tbody tr th {\n",
       "        vertical-align: top;\n",
       "    }\n",
       "\n",
       "    .dataframe thead th {\n",
       "        text-align: right;\n",
       "    }\n",
       "</style>\n",
       "<table border=\"1\" class=\"dataframe\">\n",
       "  <thead>\n",
       "    <tr style=\"text-align: right;\">\n",
       "      <th></th>\n",
       "      <th>Features</th>\n",
       "      <th>VIF</th>\n",
       "    </tr>\n",
       "  </thead>\n",
       "  <tbody>\n",
       "    <tr>\n",
       "      <th>3</th>\n",
       "      <td>hum</td>\n",
       "      <td>13.16</td>\n",
       "    </tr>\n",
       "    <tr>\n",
       "      <th>2</th>\n",
       "      <td>temp</td>\n",
       "      <td>7.78</td>\n",
       "    </tr>\n",
       "    <tr>\n",
       "      <th>1</th>\n",
       "      <td>workingday</td>\n",
       "      <td>4.36</td>\n",
       "    </tr>\n",
       "    <tr>\n",
       "      <th>4</th>\n",
       "      <td>windspeed</td>\n",
       "      <td>3.54</td>\n",
       "    </tr>\n",
       "    <tr>\n",
       "      <th>8</th>\n",
       "      <td>Mist</td>\n",
       "      <td>2.29</td>\n",
       "    </tr>\n",
       "    <tr>\n",
       "      <th>0</th>\n",
       "      <td>yr</td>\n",
       "      <td>2.02</td>\n",
       "    </tr>\n",
       "    <tr>\n",
       "      <th>6</th>\n",
       "      <td>Sat</td>\n",
       "      <td>1.74</td>\n",
       "    </tr>\n",
       "    <tr>\n",
       "      <th>10</th>\n",
       "      <td>Winter</td>\n",
       "      <td>1.63</td>\n",
       "    </tr>\n",
       "    <tr>\n",
       "      <th>9</th>\n",
       "      <td>Summer</td>\n",
       "      <td>1.58</td>\n",
       "    </tr>\n",
       "    <tr>\n",
       "      <th>7</th>\n",
       "      <td>Light_snow_rain</td>\n",
       "      <td>1.25</td>\n",
       "    </tr>\n",
       "    <tr>\n",
       "      <th>5</th>\n",
       "      <td>Sep</td>\n",
       "      <td>1.20</td>\n",
       "    </tr>\n",
       "  </tbody>\n",
       "</table>\n",
       "</div>"
      ],
      "text/plain": [
       "           Features    VIF\n",
       "3               hum  13.16\n",
       "2              temp   7.78\n",
       "1        workingday   4.36\n",
       "4         windspeed   3.54\n",
       "8              Mist   2.29\n",
       "0                yr   2.02\n",
       "6               Sat   1.74\n",
       "10           Winter   1.63\n",
       "9            Summer   1.58\n",
       "7   Light_snow_rain   1.25\n",
       "5               Sep   1.20"
      ]
     },
     "metadata": {},
     "output_type": "display_data"
    }
   ],
   "source": [
    "showVIF(X_train_rfe,drop_cols5)"
   ]
  },
  {
   "cell_type": "markdown",
   "id": "7c99a118",
   "metadata": {},
   "source": [
    "We can drop 'hum' as it has high VIF and the coef is fairly low"
   ]
  },
  {
   "cell_type": "code",
   "execution_count": 51,
   "id": "f37c9b24",
   "metadata": {},
   "outputs": [
    {
     "name": "stdout",
     "output_type": "stream",
     "text": [
      "                            OLS Regression Results                            \n",
      "==============================================================================\n",
      "Dep. Variable:                    cnt   R-squared:                       0.836\n",
      "Model:                            OLS   Adj. R-squared:                  0.833\n",
      "Method:                 Least Squares   F-statistic:                     254.4\n",
      "Date:                Mon, 30 May 2022   Prob (F-statistic):          1.05e-188\n",
      "Time:                        16:43:48   Log-Likelihood:                 499.52\n",
      "No. Observations:                 510   AIC:                            -977.0\n",
      "Df Residuals:                     499   BIC:                            -930.5\n",
      "Df Model:                          10                                         \n",
      "Covariance Type:            nonrobust                                         \n",
      "===================================================================================\n",
      "                      coef    std err          t      P>|t|      [0.025      0.975]\n",
      "-----------------------------------------------------------------------------------\n",
      "const               0.0748      0.019      4.022      0.000       0.038       0.111\n",
      "yr                  0.2331      0.008     28.403      0.000       0.217       0.249\n",
      "workingday          0.0564      0.011      5.061      0.000       0.035       0.078\n",
      "temp                0.5501      0.020     27.918      0.000       0.511       0.589\n",
      "windspeed          -0.1555      0.025     -6.209      0.000      -0.205      -0.106\n",
      "Sep                 0.0971      0.016      6.176      0.000       0.066       0.128\n",
      "Sat                 0.0678      0.014      4.719      0.000       0.040       0.096\n",
      "Light_snow_rain    -0.2880      0.025    -11.669      0.000      -0.337      -0.240\n",
      "Mist               -0.0814      0.009     -9.304      0.000      -0.099      -0.064\n",
      "Summer              0.0875      0.010      8.497      0.000       0.067       0.108\n",
      "Winter              0.1320      0.010     12.782      0.000       0.112       0.152\n",
      "==============================================================================\n",
      "Omnibus:                       68.780   Durbin-Watson:                   2.080\n",
      "Prob(Omnibus):                  0.000   Jarque-Bera (JB):              153.005\n",
      "Skew:                          -0.730   Prob(JB):                     5.96e-34\n",
      "Kurtosis:                       5.251   Cond. No.                         11.6\n",
      "==============================================================================\n",
      "\n",
      "Notes:\n",
      "[1] Standard Errors assume that the covariance matrix of the errors is correctly specified.\n"
     ]
    }
   ],
   "source": [
    "drop_cols6 , lm6 = buildlm(drop_cols5,'hum',X_train_rfe)"
   ]
  },
  {
   "cell_type": "code",
   "execution_count": 52,
   "id": "b61edb26",
   "metadata": {},
   "outputs": [
    {
     "data": {
      "text/html": [
       "<div>\n",
       "<style scoped>\n",
       "    .dataframe tbody tr th:only-of-type {\n",
       "        vertical-align: middle;\n",
       "    }\n",
       "\n",
       "    .dataframe tbody tr th {\n",
       "        vertical-align: top;\n",
       "    }\n",
       "\n",
       "    .dataframe thead th {\n",
       "        text-align: right;\n",
       "    }\n",
       "</style>\n",
       "<table border=\"1\" class=\"dataframe\">\n",
       "  <thead>\n",
       "    <tr style=\"text-align: right;\">\n",
       "      <th></th>\n",
       "      <th>Features</th>\n",
       "      <th>VIF</th>\n",
       "    </tr>\n",
       "  </thead>\n",
       "  <tbody>\n",
       "    <tr>\n",
       "      <th>2</th>\n",
       "      <td>temp</td>\n",
       "      <td>4.77</td>\n",
       "    </tr>\n",
       "    <tr>\n",
       "      <th>1</th>\n",
       "      <td>workingday</td>\n",
       "      <td>4.04</td>\n",
       "    </tr>\n",
       "    <tr>\n",
       "      <th>3</th>\n",
       "      <td>windspeed</td>\n",
       "      <td>3.45</td>\n",
       "    </tr>\n",
       "    <tr>\n",
       "      <th>0</th>\n",
       "      <td>yr</td>\n",
       "      <td>2.02</td>\n",
       "    </tr>\n",
       "    <tr>\n",
       "      <th>5</th>\n",
       "      <td>Sat</td>\n",
       "      <td>1.69</td>\n",
       "    </tr>\n",
       "    <tr>\n",
       "      <th>8</th>\n",
       "      <td>Summer</td>\n",
       "      <td>1.56</td>\n",
       "    </tr>\n",
       "    <tr>\n",
       "      <th>7</th>\n",
       "      <td>Mist</td>\n",
       "      <td>1.53</td>\n",
       "    </tr>\n",
       "    <tr>\n",
       "      <th>9</th>\n",
       "      <td>Winter</td>\n",
       "      <td>1.40</td>\n",
       "    </tr>\n",
       "    <tr>\n",
       "      <th>4</th>\n",
       "      <td>Sep</td>\n",
       "      <td>1.20</td>\n",
       "    </tr>\n",
       "    <tr>\n",
       "      <th>6</th>\n",
       "      <td>Light_snow_rain</td>\n",
       "      <td>1.08</td>\n",
       "    </tr>\n",
       "  </tbody>\n",
       "</table>\n",
       "</div>"
      ],
      "text/plain": [
       "          Features   VIF\n",
       "2             temp  4.77\n",
       "1       workingday  4.04\n",
       "3        windspeed  3.45\n",
       "0               yr  2.02\n",
       "5              Sat  1.69\n",
       "8           Summer  1.56\n",
       "7             Mist  1.53\n",
       "9           Winter  1.40\n",
       "4              Sep  1.20\n",
       "6  Light_snow_rain  1.08"
      ]
     },
     "metadata": {},
     "output_type": "display_data"
    }
   ],
   "source": [
    "showVIF(X_train_rfe,drop_cols6)"
   ]
  },
  {
   "cell_type": "markdown",
   "id": "83a9769a",
   "metadata": {},
   "source": [
    "The VIFs seem to be in contrl now."
   ]
  },
  {
   "cell_type": "code",
   "execution_count": 53,
   "id": "2cde95b4",
   "metadata": {},
   "outputs": [
    {
     "name": "stdout",
     "output_type": "stream",
     "text": [
      "                            OLS Regression Results                            \n",
      "==============================================================================\n",
      "Dep. Variable:                    cnt   R-squared:                       0.823\n",
      "Model:                            OLS   Adj. R-squared:                  0.820\n",
      "Method:                 Least Squares   F-statistic:                     259.1\n",
      "Date:                Mon, 30 May 2022   Prob (F-statistic):          5.68e-182\n",
      "Time:                        16:43:48   Log-Likelihood:                 480.74\n",
      "No. Observations:                 510   AIC:                            -941.5\n",
      "Df Residuals:                     500   BIC:                            -899.1\n",
      "Df Model:                           9                                         \n",
      "Covariance Type:            nonrobust                                         \n",
      "===================================================================================\n",
      "                      coef    std err          t      P>|t|      [0.025      0.975]\n",
      "-----------------------------------------------------------------------------------\n",
      "const               0.0743      0.019      3.851      0.000       0.036       0.112\n",
      "yr                  0.2323      0.009     27.313      0.000       0.216       0.249\n",
      "workingday          0.0568      0.012      4.917      0.000       0.034       0.080\n",
      "temp                0.5759      0.020     28.847      0.000       0.537       0.615\n",
      "windspeed          -0.1656      0.026     -6.394      0.000      -0.216      -0.115\n",
      "Sat                 0.0681      0.015      4.576      0.000       0.039       0.097\n",
      "Light_snow_rain    -0.2799      0.026    -10.954      0.000      -0.330      -0.230\n",
      "Mist               -0.0771      0.009     -8.528      0.000      -0.095      -0.059\n",
      "Summer              0.0749      0.010      7.157      0.000       0.054       0.095\n",
      "Winter              0.1289      0.011     12.061      0.000       0.108       0.150\n",
      "==============================================================================\n",
      "Omnibus:                       60.668   Durbin-Watson:                   2.014\n",
      "Prob(Omnibus):                  0.000   Jarque-Bera (JB):              148.922\n",
      "Skew:                          -0.618   Prob(JB):                     4.59e-33\n",
      "Kurtosis:                       5.341   Cond. No.                         11.6\n",
      "==============================================================================\n",
      "\n",
      "Notes:\n",
      "[1] Standard Errors assume that the covariance matrix of the errors is correctly specified.\n"
     ]
    }
   ],
   "source": [
    "drop_cols7 , lm7 = buildlm(drop_cols6,'Sep',X_train_rfe)"
   ]
  },
  {
   "cell_type": "code",
   "execution_count": 54,
   "id": "53440634",
   "metadata": {},
   "outputs": [
    {
     "data": {
      "text/html": [
       "<div>\n",
       "<style scoped>\n",
       "    .dataframe tbody tr th:only-of-type {\n",
       "        vertical-align: middle;\n",
       "    }\n",
       "\n",
       "    .dataframe tbody tr th {\n",
       "        vertical-align: top;\n",
       "    }\n",
       "\n",
       "    .dataframe thead th {\n",
       "        text-align: right;\n",
       "    }\n",
       "</style>\n",
       "<table border=\"1\" class=\"dataframe\">\n",
       "  <thead>\n",
       "    <tr style=\"text-align: right;\">\n",
       "      <th></th>\n",
       "      <th>Features</th>\n",
       "      <th>VIF</th>\n",
       "    </tr>\n",
       "  </thead>\n",
       "  <tbody>\n",
       "    <tr>\n",
       "      <th>2</th>\n",
       "      <td>temp</td>\n",
       "      <td>4.42</td>\n",
       "    </tr>\n",
       "    <tr>\n",
       "      <th>1</th>\n",
       "      <td>workingday</td>\n",
       "      <td>4.04</td>\n",
       "    </tr>\n",
       "    <tr>\n",
       "      <th>3</th>\n",
       "      <td>windspeed</td>\n",
       "      <td>3.43</td>\n",
       "    </tr>\n",
       "    <tr>\n",
       "      <th>0</th>\n",
       "      <td>yr</td>\n",
       "      <td>2.02</td>\n",
       "    </tr>\n",
       "    <tr>\n",
       "      <th>4</th>\n",
       "      <td>Sat</td>\n",
       "      <td>1.69</td>\n",
       "    </tr>\n",
       "    <tr>\n",
       "      <th>6</th>\n",
       "      <td>Mist</td>\n",
       "      <td>1.52</td>\n",
       "    </tr>\n",
       "    <tr>\n",
       "      <th>7</th>\n",
       "      <td>Summer</td>\n",
       "      <td>1.50</td>\n",
       "    </tr>\n",
       "    <tr>\n",
       "      <th>8</th>\n",
       "      <td>Winter</td>\n",
       "      <td>1.40</td>\n",
       "    </tr>\n",
       "    <tr>\n",
       "      <th>5</th>\n",
       "      <td>Light_snow_rain</td>\n",
       "      <td>1.08</td>\n",
       "    </tr>\n",
       "  </tbody>\n",
       "</table>\n",
       "</div>"
      ],
      "text/plain": [
       "          Features   VIF\n",
       "2             temp  4.42\n",
       "1       workingday  4.04\n",
       "3        windspeed  3.43\n",
       "0               yr  2.02\n",
       "4              Sat  1.69\n",
       "6             Mist  1.52\n",
       "7           Summer  1.50\n",
       "8           Winter  1.40\n",
       "5  Light_snow_rain  1.08"
      ]
     },
     "metadata": {},
     "output_type": "display_data"
    }
   ],
   "source": [
    "showVIF(X_train_rfe,drop_cols7)"
   ]
  },
  {
   "cell_type": "markdown",
   "id": "4237924a",
   "metadata": {},
   "source": [
    "lets drop \"Sat\" and see \n"
   ]
  },
  {
   "cell_type": "code",
   "execution_count": 55,
   "id": "e86c23ae",
   "metadata": {},
   "outputs": [
    {
     "name": "stdout",
     "output_type": "stream",
     "text": [
      "                            OLS Regression Results                            \n",
      "==============================================================================\n",
      "Dep. Variable:                    cnt   R-squared:                       0.816\n",
      "Model:                            OLS   Adj. R-squared:                  0.813\n",
      "Method:                 Least Squares   F-statistic:                     277.9\n",
      "Date:                Mon, 30 May 2022   Prob (F-statistic):          9.11e-179\n",
      "Time:                        16:43:48   Log-Likelihood:                 470.28\n",
      "No. Observations:                 510   AIC:                            -922.6\n",
      "Df Residuals:                     501   BIC:                            -884.4\n",
      "Df Model:                           8                                         \n",
      "Covariance Type:            nonrobust                                         \n",
      "===================================================================================\n",
      "                      coef    std err          t      P>|t|      [0.025      0.975]\n",
      "-----------------------------------------------------------------------------------\n",
      "const               0.1055      0.018      5.735      0.000       0.069       0.142\n",
      "yr                  0.2317      0.009     26.721      0.000       0.215       0.249\n",
      "workingday          0.0241      0.009      2.601      0.010       0.006       0.042\n",
      "temp                0.5764      0.020     28.315      0.000       0.536       0.616\n",
      "windspeed          -0.1628      0.026     -6.166      0.000      -0.215      -0.111\n",
      "Light_snow_rain    -0.2740      0.026    -10.529      0.000      -0.325      -0.223\n",
      "Mist               -0.0749      0.009     -8.138      0.000      -0.093      -0.057\n",
      "Summer              0.0749      0.011      7.019      0.000       0.054       0.096\n",
      "Winter              0.1277      0.011     11.716      0.000       0.106       0.149\n",
      "==============================================================================\n",
      "Omnibus:                       51.848   Durbin-Watson:                   1.991\n",
      "Prob(Omnibus):                  0.000   Jarque-Bera (JB):              141.534\n",
      "Skew:                          -0.493   Prob(JB):                     1.85e-31\n",
      "Kurtosis:                       5.385   Cond. No.                         11.4\n",
      "==============================================================================\n",
      "\n",
      "Notes:\n",
      "[1] Standard Errors assume that the covariance matrix of the errors is correctly specified.\n"
     ]
    }
   ],
   "source": [
    "drop_cols8 , lm8 = buildlm(drop_cols7,'Sat',X_train_rfe)"
   ]
  },
  {
   "cell_type": "code",
   "execution_count": 56,
   "id": "c208abc2",
   "metadata": {},
   "outputs": [
    {
     "data": {
      "text/html": [
       "<div>\n",
       "<style scoped>\n",
       "    .dataframe tbody tr th:only-of-type {\n",
       "        vertical-align: middle;\n",
       "    }\n",
       "\n",
       "    .dataframe tbody tr th {\n",
       "        vertical-align: top;\n",
       "    }\n",
       "\n",
       "    .dataframe thead th {\n",
       "        text-align: right;\n",
       "    }\n",
       "</style>\n",
       "<table border=\"1\" class=\"dataframe\">\n",
       "  <thead>\n",
       "    <tr style=\"text-align: right;\">\n",
       "      <th></th>\n",
       "      <th>Features</th>\n",
       "      <th>VIF</th>\n",
       "    </tr>\n",
       "  </thead>\n",
       "  <tbody>\n",
       "    <tr>\n",
       "      <th>2</th>\n",
       "      <td>temp</td>\n",
       "      <td>3.94</td>\n",
       "    </tr>\n",
       "    <tr>\n",
       "      <th>3</th>\n",
       "      <td>windspeed</td>\n",
       "      <td>3.15</td>\n",
       "    </tr>\n",
       "    <tr>\n",
       "      <th>1</th>\n",
       "      <td>workingday</td>\n",
       "      <td>2.81</td>\n",
       "    </tr>\n",
       "    <tr>\n",
       "      <th>0</th>\n",
       "      <td>yr</td>\n",
       "      <td>2.01</td>\n",
       "    </tr>\n",
       "    <tr>\n",
       "      <th>6</th>\n",
       "      <td>Summer</td>\n",
       "      <td>1.50</td>\n",
       "    </tr>\n",
       "    <tr>\n",
       "      <th>5</th>\n",
       "      <td>Mist</td>\n",
       "      <td>1.49</td>\n",
       "    </tr>\n",
       "    <tr>\n",
       "      <th>7</th>\n",
       "      <td>Winter</td>\n",
       "      <td>1.38</td>\n",
       "    </tr>\n",
       "    <tr>\n",
       "      <th>4</th>\n",
       "      <td>Light_snow_rain</td>\n",
       "      <td>1.08</td>\n",
       "    </tr>\n",
       "  </tbody>\n",
       "</table>\n",
       "</div>"
      ],
      "text/plain": [
       "          Features   VIF\n",
       "2             temp  3.94\n",
       "3        windspeed  3.15\n",
       "1       workingday  2.81\n",
       "0               yr  2.01\n",
       "6           Summer  1.50\n",
       "5             Mist  1.49\n",
       "7           Winter  1.38\n",
       "4  Light_snow_rain  1.08"
      ]
     },
     "metadata": {},
     "output_type": "display_data"
    }
   ],
   "source": [
    "showVIF(X_train_rfe,drop_cols8)"
   ]
  },
  {
   "cell_type": "code",
   "execution_count": 57,
   "id": "0ec4fe7a",
   "metadata": {},
   "outputs": [
    {
     "name": "stdout",
     "output_type": "stream",
     "text": [
      "                            OLS Regression Results                            \n",
      "==============================================================================\n",
      "Dep. Variable:                    cnt   R-squared:                       0.814\n",
      "Model:                            OLS   Adj. R-squared:                  0.811\n",
      "Method:                 Least Squares   F-statistic:                     313.0\n",
      "Date:                Mon, 30 May 2022   Prob (F-statistic):          1.42e-178\n",
      "Time:                        16:43:48   Log-Likelihood:                 466.86\n",
      "No. Observations:                 510   AIC:                            -917.7\n",
      "Df Residuals:                     502   BIC:                            -883.8\n",
      "Df Model:                           7                                         \n",
      "Covariance Type:            nonrobust                                         \n",
      "===================================================================================\n",
      "                      coef    std err          t      P>|t|      [0.025      0.975]\n",
      "-----------------------------------------------------------------------------------\n",
      "const               0.1207      0.018      6.884      0.000       0.086       0.155\n",
      "yr                  0.2323      0.009     26.653      0.000       0.215       0.249\n",
      "temp                0.5788      0.020     28.300      0.000       0.539       0.619\n",
      "windspeed          -0.1657      0.027     -6.245      0.000      -0.218      -0.114\n",
      "Light_snow_rain    -0.2712      0.026    -10.373      0.000      -0.323      -0.220\n",
      "Mist               -0.0737      0.009     -7.975      0.000      -0.092      -0.056\n",
      "Summer              0.0756      0.011      7.045      0.000       0.055       0.097\n",
      "Winter              0.1264      0.011     11.550      0.000       0.105       0.148\n",
      "==============================================================================\n",
      "Omnibus:                       57.988   Durbin-Watson:                   1.975\n",
      "Prob(Omnibus):                  0.000   Jarque-Bera (JB):              142.963\n",
      "Skew:                          -0.590   Prob(JB):                     9.04e-32\n",
      "Kurtosis:                       5.310   Cond. No.                         10.2\n",
      "==============================================================================\n",
      "\n",
      "Notes:\n",
      "[1] Standard Errors assume that the covariance matrix of the errors is correctly specified.\n"
     ]
    }
   ],
   "source": [
    "# Dropping workingday as it has a very high P value\n",
    "drop_cols9 , lm9 = buildlm(drop_cols8,'workingday',X_train_rfe)"
   ]
  },
  {
   "cell_type": "markdown",
   "id": "7180142f",
   "metadata": {},
   "source": [
    "Our model looks good"
   ]
  },
  {
   "cell_type": "code",
   "execution_count": 58,
   "id": "d59d4c91",
   "metadata": {},
   "outputs": [
    {
     "data": {
      "text/html": [
       "<div>\n",
       "<style scoped>\n",
       "    .dataframe tbody tr th:only-of-type {\n",
       "        vertical-align: middle;\n",
       "    }\n",
       "\n",
       "    .dataframe tbody tr th {\n",
       "        vertical-align: top;\n",
       "    }\n",
       "\n",
       "    .dataframe thead th {\n",
       "        text-align: right;\n",
       "    }\n",
       "</style>\n",
       "<table border=\"1\" class=\"dataframe\">\n",
       "  <thead>\n",
       "    <tr style=\"text-align: right;\">\n",
       "      <th></th>\n",
       "      <th>Features</th>\n",
       "      <th>VIF</th>\n",
       "    </tr>\n",
       "  </thead>\n",
       "  <tbody>\n",
       "    <tr>\n",
       "      <th>1</th>\n",
       "      <td>temp</td>\n",
       "      <td>3.33</td>\n",
       "    </tr>\n",
       "    <tr>\n",
       "      <th>2</th>\n",
       "      <td>windspeed</td>\n",
       "      <td>3.02</td>\n",
       "    </tr>\n",
       "    <tr>\n",
       "      <th>0</th>\n",
       "      <td>yr</td>\n",
       "      <td>2.00</td>\n",
       "    </tr>\n",
       "    <tr>\n",
       "      <th>5</th>\n",
       "      <td>Summer</td>\n",
       "      <td>1.50</td>\n",
       "    </tr>\n",
       "    <tr>\n",
       "      <th>4</th>\n",
       "      <td>Mist</td>\n",
       "      <td>1.47</td>\n",
       "    </tr>\n",
       "    <tr>\n",
       "      <th>6</th>\n",
       "      <td>Winter</td>\n",
       "      <td>1.37</td>\n",
       "    </tr>\n",
       "    <tr>\n",
       "      <th>3</th>\n",
       "      <td>Light_snow_rain</td>\n",
       "      <td>1.08</td>\n",
       "    </tr>\n",
       "  </tbody>\n",
       "</table>\n",
       "</div>"
      ],
      "text/plain": [
       "          Features   VIF\n",
       "1             temp  3.33\n",
       "2        windspeed  3.02\n",
       "0               yr  2.00\n",
       "5           Summer  1.50\n",
       "4             Mist  1.47\n",
       "6           Winter  1.37\n",
       "3  Light_snow_rain  1.08"
      ]
     },
     "metadata": {},
     "output_type": "display_data"
    }
   ],
   "source": [
    "showVIF(X_train_rfe,drop_cols9)"
   ]
  },
  {
   "cell_type": "markdown",
   "id": "2caf22f7",
   "metadata": {},
   "source": [
    "#### As per stats we are satisfied with the model as all VIF & P values are low the R2 and Adjusted R2 are very close and high at 81% "
   ]
  },
  {
   "cell_type": "markdown",
   "id": "edb5bf39",
   "metadata": {},
   "source": [
    "## Residual Analysis of the train data\n",
    "\n",
    "So, now to check if the error terms are also normally distributed "
   ]
  },
  {
   "cell_type": "code",
   "execution_count": 59,
   "id": "4e893d0c",
   "metadata": {},
   "outputs": [],
   "source": [
    "# Considering our last model is the best \n",
    "fin_lm=lm9\n",
    "X_train_fin=X_train_rfe.drop(drop_cols9,axis=1)\n",
    "y_train_pred=fin_lm.predict(X_train_fin)"
   ]
  },
  {
   "cell_type": "code",
   "execution_count": 60,
   "id": "2943618f",
   "metadata": {},
   "outputs": [
    {
     "data": {
      "image/png": "[encoded data removed]",
      "text/plain": [
       "<Figure size 432x288 with 1 Axes>"
      ]
     },
     "metadata": {
      "needs_background": "light"
     },
     "output_type": "display_data"
    }
   ],
   "source": [
    "# Lets look at the error\n",
    "sns.distplot((y_train-y_train_pred),bins=20)\n",
    "plt.show()"
   ]
  },
  {
   "cell_type": "markdown",
   "id": "946e8246",
   "metadata": {},
   "source": [
    "The error is normaly distributed which is a good sign"
   ]
  },
  {
   "cell_type": "markdown",
   "id": "7c25302d",
   "metadata": {},
   "source": [
    "### Testing the model on the test set "
   ]
  },
  {
   "cell_type": "code",
   "execution_count": 61,
   "id": "1e6bda6e",
   "metadata": {},
   "outputs": [
    {
     "data": {
      "text/plain": [
       "(219, 28)"
      ]
     },
     "execution_count": 61,
     "metadata": {},
     "output_type": "execute_result"
    }
   ],
   "source": [
    "# Before we start testing on the test set we need to drop all the columns we dropped while making the model\n",
    "X_test.shape"
   ]
  },
  {
   "cell_type": "code",
   "execution_count": 62,
   "id": "a2e24b85",
   "metadata": {},
   "outputs": [
    {
     "data": {
      "text/plain": [
       "(219, 7)"
      ]
     },
     "execution_count": 62,
     "metadata": {},
     "output_type": "execute_result"
    }
   ],
   "source": [
    "X_test=X_test.drop(drop_cols9,axis=1)# Dropping columns that were droped while builing the model\n",
    "X_test=X_test.drop(drop_cols,axis=1)#Dropping columns that were dropped by RFE\n",
    "X_test.shape"
   ]
  },
  {
   "cell_type": "code",
   "execution_count": 63,
   "id": "9ab37917",
   "metadata": {},
   "outputs": [],
   "source": [
    "X_test=sm.add_constant(X_test)"
   ]
  },
  {
   "cell_type": "code",
   "execution_count": 64,
   "id": "9870ca3d",
   "metadata": {},
   "outputs": [],
   "source": [
    "y_pred=fin_lm.predict(X_test)"
   ]
  },
  {
   "cell_type": "code",
   "execution_count": 65,
   "id": "afc65129",
   "metadata": {},
   "outputs": [
    {
     "data": {
      "image/png": "[encoded data removed]",
      "text/plain": [
       "<Figure size 432x288 with 1 Axes>"
      ]
     },
     "metadata": {
      "needs_background": "light"
     },
     "output_type": "display_data"
    }
   ],
   "source": [
    "#lets look at the difference \n",
    "sns.distplot((y_test-y_pred), bins=10)\n",
    "plt.show()"
   ]
  },
  {
   "cell_type": "markdown",
   "id": "0126f47d",
   "metadata": {},
   "source": [
    "#### Errors are normallydistributed"
   ]
  },
  {
   "cell_type": "code",
   "execution_count": 66,
   "id": "5686f543",
   "metadata": {},
   "outputs": [
    {
     "data": {
      "image/png": "[encoded data removed]",
      "text/plain": [
       "<Figure size 864x576 with 1 Axes>"
      ]
     },
     "metadata": {
      "needs_background": "light"
     },
     "output_type": "display_data"
    }
   ],
   "source": [
    "plt.figure(figsize=(12,8))\n",
    "\n",
    "sns.scatterplot(data=y_test)\n",
    "\n",
    "sns.lineplot(data=y_pred)\n",
    "\n",
    "plt.show()"
   ]
  },
  {
   "cell_type": "markdown",
   "id": "a1f275dd",
   "metadata": {},
   "source": [
    "The Model is very accurate and there are only a few points that fall out of the line. "
   ]
  },
  {
   "cell_type": "markdown",
   "id": "f0fc2029",
   "metadata": {},
   "source": [
    "#### Looking at R2 score"
   ]
  },
  {
   "cell_type": "code",
   "execution_count": 67,
   "id": "bb7d7ee8",
   "metadata": {},
   "outputs": [
    {
     "data": {
      "text/plain": [
       "0.7813279364711988"
      ]
     },
     "execution_count": 67,
     "metadata": {},
     "output_type": "execute_result"
    }
   ],
   "source": [
    "r2_score(y_test,y_pred)"
   ]
  },
  {
   "cell_type": "markdown",
   "id": "ce862b2d",
   "metadata": {},
   "source": [
    "#### We are getting an 78% accuracy on the test set .. which is similar to the training set . Hence we can say that the model is stable and usable"
   ]
  },
  {
   "cell_type": "code",
   "execution_count": 68,
   "id": "fe1b1e32",
   "metadata": {},
   "outputs": [
    {
     "data": {
      "text/plain": [
       "const              0.121\n",
       "yr                 0.232\n",
       "temp               0.579\n",
       "windspeed         -0.166\n",
       "Light_snow_rain   -0.271\n",
       "Mist              -0.074\n",
       "Summer             0.076\n",
       "Winter             0.126\n",
       "Name: Coef., dtype: float64"
      ]
     },
     "execution_count": 68,
     "metadata": {},
     "output_type": "execute_result"
    }
   ],
   "source": [
    "d1=fin_lm.summary2()\n",
    "t1=d1.tables[1]['Coef.']\n",
    "t1=round(t1,3)\n",
    "t1"
   ]
  },
  {
   "cell_type": "markdown",
   "id": "73c0311d",
   "metadata": {},
   "source": [
    "## Prediction= 0.121 + 0.232 * yr +0.579*temp+0.076*Summer+0.126*Winter -(0.166*windspeed+0.271*Light_snow_rain+0.074*Mist)"
   ]
  },
  {
   "cell_type": "markdown",
   "id": "fa261748",
   "metadata": {},
   "source": [
    "### As Observed in The EDA we have a strong Positive correlation between the temprature and rentals\n",
    "### we also have a strong negetive correlation between light snow/rain and the rentals ."
   ]
  },
  {
   "cell_type": "code",
   "execution_count": null,
   "id": "6caa643e",
   "metadata": {},
   "outputs": [],
   "source": []
  }
 ],
 "metadata": {
  "kernelspec": {
   "display_name": "Python 3 (ipykernel)",
   "language": "python",
   "name": "python3"
  },
  "language_info": {
   "codemirror_mode": {
    "name": "ipython",
    "version": 3
   },
   "file_extension": ".py",
   "mimetype": "text/x-python",
   "name": "python",
   "nbconvert_exporter": "python",
   "pygments_lexer": "ipython3",
   "version": "3.9.7"
  }
 },
 "nbformat": 4,
 "nbformat_minor": 5
}
